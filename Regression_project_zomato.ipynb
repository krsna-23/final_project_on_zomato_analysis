{
 "cells": [
  {
   "cell_type": "code",
   "execution_count": 1,
   "id": "c16e90af-447e-4214-91cf-864ce09517d1",
   "metadata": {},
   "outputs": [],
   "source": [
    "import numpy as np                    # for the 2-D matrices\n",
    "import pandas as pd                   # for the Data frames\n",
    "import matplotlib.pyplot as plt       # for the visualization\n",
    "import seaborn as sns                 # for the visualization\n",
    "import warnings\n",
    "warnings.filterwarnings('ignore')     #"
   ]
  },
  {
   "cell_type": "markdown",
   "id": "09b05c81-2343-4ae2-bcda-e967172ea9e7",
   "metadata": {},
   "source": [
    "# Loading and Exploring the data."
   ]
  },
  {
   "cell_type": "code",
   "execution_count": 4,
   "id": "aec8e410-b719-4c5c-bea2-a2b1a14536f8",
   "metadata": {},
   "outputs": [],
   "source": [
    "df=pd.read_csv(\"E:\\documents\\zomato.csv_(1)[1]\\zomato.csv\")"
   ]
  },
  {
   "cell_type": "code",
   "execution_count": 5,
   "id": "d9060085-6ea1-4d38-9ba5-583aa128f6e9",
   "metadata": {},
   "outputs": [
    {
     "data": {
      "text/html": [
       "<div>\n",
       "<style scoped>\n",
       "    .dataframe tbody tr th:only-of-type {\n",
       "        vertical-align: middle;\n",
       "    }\n",
       "\n",
       "    .dataframe tbody tr th {\n",
       "        vertical-align: top;\n",
       "    }\n",
       "\n",
       "    .dataframe thead th {\n",
       "        text-align: right;\n",
       "    }\n",
       "</style>\n",
       "<table border=\"1\" class=\"dataframe\">\n",
       "  <thead>\n",
       "    <tr style=\"text-align: right;\">\n",
       "      <th></th>\n",
       "      <th>url</th>\n",
       "      <th>address</th>\n",
       "      <th>name</th>\n",
       "      <th>online_order</th>\n",
       "      <th>book_table</th>\n",
       "      <th>rate</th>\n",
       "      <th>votes</th>\n",
       "      <th>phone</th>\n",
       "      <th>location</th>\n",
       "      <th>rest_type</th>\n",
       "      <th>dish_liked</th>\n",
       "      <th>cuisines</th>\n",
       "      <th>approx_cost(for two people)</th>\n",
       "      <th>reviews_list</th>\n",
       "      <th>menu_item</th>\n",
       "      <th>listed_in(type)</th>\n",
       "      <th>listed_in(city)</th>\n",
       "    </tr>\n",
       "  </thead>\n",
       "  <tbody>\n",
       "    <tr>\n",
       "      <th>0</th>\n",
       "      <td>https://www.zomato.com/bangalore/jalsa-banasha...</td>\n",
       "      <td>942, 21st Main Road, 2nd Stage, Banashankari, ...</td>\n",
       "      <td>Jalsa</td>\n",
       "      <td>Yes</td>\n",
       "      <td>Yes</td>\n",
       "      <td>4.1/5</td>\n",
       "      <td>775</td>\n",
       "      <td>080 42297555\\r\\n+91 9743772233</td>\n",
       "      <td>Banashankari</td>\n",
       "      <td>Casual Dining</td>\n",
       "      <td>Pasta, Lunch Buffet, Masala Papad, Paneer Laja...</td>\n",
       "      <td>North Indian, Mughlai, Chinese</td>\n",
       "      <td>800</td>\n",
       "      <td>[('Rated 4.0', 'RATED\\n  A beautiful place to ...</td>\n",
       "      <td>[]</td>\n",
       "      <td>Buffet</td>\n",
       "      <td>Banashankari</td>\n",
       "    </tr>\n",
       "    <tr>\n",
       "      <th>1</th>\n",
       "      <td>https://www.zomato.com/bangalore/spice-elephan...</td>\n",
       "      <td>2nd Floor, 80 Feet Road, Near Big Bazaar, 6th ...</td>\n",
       "      <td>Spice Elephant</td>\n",
       "      <td>Yes</td>\n",
       "      <td>No</td>\n",
       "      <td>4.1/5</td>\n",
       "      <td>787</td>\n",
       "      <td>080 41714161</td>\n",
       "      <td>Banashankari</td>\n",
       "      <td>Casual Dining</td>\n",
       "      <td>Momos, Lunch Buffet, Chocolate Nirvana, Thai G...</td>\n",
       "      <td>Chinese, North Indian, Thai</td>\n",
       "      <td>800</td>\n",
       "      <td>[('Rated 4.0', 'RATED\\n  Had been here for din...</td>\n",
       "      <td>[]</td>\n",
       "      <td>Buffet</td>\n",
       "      <td>Banashankari</td>\n",
       "    </tr>\n",
       "    <tr>\n",
       "      <th>2</th>\n",
       "      <td>https://www.zomato.com/SanchurroBangalore?cont...</td>\n",
       "      <td>1112, Next to KIMS Medical College, 17th Cross...</td>\n",
       "      <td>San Churro Cafe</td>\n",
       "      <td>Yes</td>\n",
       "      <td>No</td>\n",
       "      <td>3.8/5</td>\n",
       "      <td>918</td>\n",
       "      <td>+91 9663487993</td>\n",
       "      <td>Banashankari</td>\n",
       "      <td>Cafe, Casual Dining</td>\n",
       "      <td>Churros, Cannelloni, Minestrone Soup, Hot Choc...</td>\n",
       "      <td>Cafe, Mexican, Italian</td>\n",
       "      <td>800</td>\n",
       "      <td>[('Rated 3.0', \"RATED\\n  Ambience is not that ...</td>\n",
       "      <td>[]</td>\n",
       "      <td>Buffet</td>\n",
       "      <td>Banashankari</td>\n",
       "    </tr>\n",
       "  </tbody>\n",
       "</table>\n",
       "</div>"
      ],
      "text/plain": [
       "                                                 url  \\\n",
       "0  https://www.zomato.com/bangalore/jalsa-banasha...   \n",
       "1  https://www.zomato.com/bangalore/spice-elephan...   \n",
       "2  https://www.zomato.com/SanchurroBangalore?cont...   \n",
       "\n",
       "                                             address             name  \\\n",
       "0  942, 21st Main Road, 2nd Stage, Banashankari, ...            Jalsa   \n",
       "1  2nd Floor, 80 Feet Road, Near Big Bazaar, 6th ...   Spice Elephant   \n",
       "2  1112, Next to KIMS Medical College, 17th Cross...  San Churro Cafe   \n",
       "\n",
       "  online_order book_table   rate  votes                           phone  \\\n",
       "0          Yes        Yes  4.1/5    775  080 42297555\\r\\n+91 9743772233   \n",
       "1          Yes         No  4.1/5    787                    080 41714161   \n",
       "2          Yes         No  3.8/5    918                  +91 9663487993   \n",
       "\n",
       "       location            rest_type  \\\n",
       "0  Banashankari        Casual Dining   \n",
       "1  Banashankari        Casual Dining   \n",
       "2  Banashankari  Cafe, Casual Dining   \n",
       "\n",
       "                                          dish_liked  \\\n",
       "0  Pasta, Lunch Buffet, Masala Papad, Paneer Laja...   \n",
       "1  Momos, Lunch Buffet, Chocolate Nirvana, Thai G...   \n",
       "2  Churros, Cannelloni, Minestrone Soup, Hot Choc...   \n",
       "\n",
       "                         cuisines approx_cost(for two people)  \\\n",
       "0  North Indian, Mughlai, Chinese                         800   \n",
       "1     Chinese, North Indian, Thai                         800   \n",
       "2          Cafe, Mexican, Italian                         800   \n",
       "\n",
       "                                        reviews_list menu_item  \\\n",
       "0  [('Rated 4.0', 'RATED\\n  A beautiful place to ...        []   \n",
       "1  [('Rated 4.0', 'RATED\\n  Had been here for din...        []   \n",
       "2  [('Rated 3.0', \"RATED\\n  Ambience is not that ...        []   \n",
       "\n",
       "  listed_in(type) listed_in(city)  \n",
       "0          Buffet    Banashankari  \n",
       "1          Buffet    Banashankari  \n",
       "2          Buffet    Banashankari  "
      ]
     },
     "execution_count": 5,
     "metadata": {},
     "output_type": "execute_result"
    }
   ],
   "source": [
    "df.head(3)"
   ]
  },
  {
   "cell_type": "code",
   "execution_count": 6,
   "id": "829f8f3d-0221-430a-97e1-870f95f1cc7b",
   "metadata": {},
   "outputs": [],
   "source": [
    "df.drop (columns=[\"url\",\"address\",\"phone\",\"menu_item\"],inplace=True)"
   ]
  },
  {
   "cell_type": "code",
   "execution_count": 7,
   "id": "3b9000e5-e06f-4abc-9146-a57e819e9f17",
   "metadata": {},
   "outputs": [
    {
     "data": {
      "text/plain": [
       "(51717, 13)"
      ]
     },
     "execution_count": 7,
     "metadata": {},
     "output_type": "execute_result"
    }
   ],
   "source": [
    "df.shape"
   ]
  },
  {
   "cell_type": "code",
   "execution_count": 8,
   "id": "8054052c-458e-497f-aa73-0b94806163bd",
   "metadata": {},
   "outputs": [
    {
     "data": {
      "text/html": [
       "<div>\n",
       "<style scoped>\n",
       "    .dataframe tbody tr th:only-of-type {\n",
       "        vertical-align: middle;\n",
       "    }\n",
       "\n",
       "    .dataframe tbody tr th {\n",
       "        vertical-align: top;\n",
       "    }\n",
       "\n",
       "    .dataframe thead th {\n",
       "        text-align: right;\n",
       "    }\n",
       "</style>\n",
       "<table border=\"1\" class=\"dataframe\">\n",
       "  <thead>\n",
       "    <tr style=\"text-align: right;\">\n",
       "      <th></th>\n",
       "      <th>name</th>\n",
       "      <th>online_order</th>\n",
       "      <th>book_table</th>\n",
       "      <th>rate</th>\n",
       "      <th>votes</th>\n",
       "      <th>location</th>\n",
       "      <th>rest_type</th>\n",
       "      <th>dish_liked</th>\n",
       "      <th>cuisines</th>\n",
       "      <th>approx_cost(for two people)</th>\n",
       "      <th>reviews_list</th>\n",
       "      <th>listed_in(type)</th>\n",
       "      <th>listed_in(city)</th>\n",
       "    </tr>\n",
       "  </thead>\n",
       "  <tbody>\n",
       "    <tr>\n",
       "      <th>0</th>\n",
       "      <td>Jalsa</td>\n",
       "      <td>Yes</td>\n",
       "      <td>Yes</td>\n",
       "      <td>4.1/5</td>\n",
       "      <td>775</td>\n",
       "      <td>Banashankari</td>\n",
       "      <td>Casual Dining</td>\n",
       "      <td>Pasta, Lunch Buffet, Masala Papad, Paneer Laja...</td>\n",
       "      <td>North Indian, Mughlai, Chinese</td>\n",
       "      <td>800</td>\n",
       "      <td>[('Rated 4.0', 'RATED\\n  A beautiful place to ...</td>\n",
       "      <td>Buffet</td>\n",
       "      <td>Banashankari</td>\n",
       "    </tr>\n",
       "    <tr>\n",
       "      <th>1</th>\n",
       "      <td>Spice Elephant</td>\n",
       "      <td>Yes</td>\n",
       "      <td>No</td>\n",
       "      <td>4.1/5</td>\n",
       "      <td>787</td>\n",
       "      <td>Banashankari</td>\n",
       "      <td>Casual Dining</td>\n",
       "      <td>Momos, Lunch Buffet, Chocolate Nirvana, Thai G...</td>\n",
       "      <td>Chinese, North Indian, Thai</td>\n",
       "      <td>800</td>\n",
       "      <td>[('Rated 4.0', 'RATED\\n  Had been here for din...</td>\n",
       "      <td>Buffet</td>\n",
       "      <td>Banashankari</td>\n",
       "    </tr>\n",
       "    <tr>\n",
       "      <th>2</th>\n",
       "      <td>San Churro Cafe</td>\n",
       "      <td>Yes</td>\n",
       "      <td>No</td>\n",
       "      <td>3.8/5</td>\n",
       "      <td>918</td>\n",
       "      <td>Banashankari</td>\n",
       "      <td>Cafe, Casual Dining</td>\n",
       "      <td>Churros, Cannelloni, Minestrone Soup, Hot Choc...</td>\n",
       "      <td>Cafe, Mexican, Italian</td>\n",
       "      <td>800</td>\n",
       "      <td>[('Rated 3.0', \"RATED\\n  Ambience is not that ...</td>\n",
       "      <td>Buffet</td>\n",
       "      <td>Banashankari</td>\n",
       "    </tr>\n",
       "  </tbody>\n",
       "</table>\n",
       "</div>"
      ],
      "text/plain": [
       "              name online_order book_table   rate  votes      location  \\\n",
       "0            Jalsa          Yes        Yes  4.1/5    775  Banashankari   \n",
       "1   Spice Elephant          Yes         No  4.1/5    787  Banashankari   \n",
       "2  San Churro Cafe          Yes         No  3.8/5    918  Banashankari   \n",
       "\n",
       "             rest_type                                         dish_liked  \\\n",
       "0        Casual Dining  Pasta, Lunch Buffet, Masala Papad, Paneer Laja...   \n",
       "1        Casual Dining  Momos, Lunch Buffet, Chocolate Nirvana, Thai G...   \n",
       "2  Cafe, Casual Dining  Churros, Cannelloni, Minestrone Soup, Hot Choc...   \n",
       "\n",
       "                         cuisines approx_cost(for two people)  \\\n",
       "0  North Indian, Mughlai, Chinese                         800   \n",
       "1     Chinese, North Indian, Thai                         800   \n",
       "2          Cafe, Mexican, Italian                         800   \n",
       "\n",
       "                                        reviews_list listed_in(type)  \\\n",
       "0  [('Rated 4.0', 'RATED\\n  A beautiful place to ...          Buffet   \n",
       "1  [('Rated 4.0', 'RATED\\n  Had been here for din...          Buffet   \n",
       "2  [('Rated 3.0', \"RATED\\n  Ambience is not that ...          Buffet   \n",
       "\n",
       "  listed_in(city)  \n",
       "0    Banashankari  \n",
       "1    Banashankari  \n",
       "2    Banashankari  "
      ]
     },
     "execution_count": 8,
     "metadata": {},
     "output_type": "execute_result"
    }
   ],
   "source": [
    "df.head(3)"
   ]
  },
  {
   "cell_type": "code",
   "execution_count": 9,
   "id": "59100fb4-6367-48aa-9362-3ee680b9743b",
   "metadata": {},
   "outputs": [],
   "source": [
    "df.rename(columns = {'approx_cost(for two people)':'Cost2plates'},inplace=True)"
   ]
  },
  {
   "cell_type": "code",
   "execution_count": 10,
   "id": "ad7302dd-ec06-49ca-bc4b-2bd6f59c7613",
   "metadata": {},
   "outputs": [
    {
     "name": "stdout",
     "output_type": "stream",
     "text": [
      "<class 'pandas.core.frame.DataFrame'>\n",
      "RangeIndex: 51717 entries, 0 to 51716\n",
      "Data columns (total 13 columns):\n",
      " #   Column           Non-Null Count  Dtype \n",
      "---  ------           --------------  ----- \n",
      " 0   name             51717 non-null  object\n",
      " 1   online_order     51717 non-null  object\n",
      " 2   book_table       51717 non-null  object\n",
      " 3   rate             43942 non-null  object\n",
      " 4   votes            51717 non-null  int64 \n",
      " 5   location         51696 non-null  object\n",
      " 6   rest_type        51490 non-null  object\n",
      " 7   dish_liked       23639 non-null  object\n",
      " 8   cuisines         51672 non-null  object\n",
      " 9   Cost2plates      51371 non-null  object\n",
      " 10  reviews_list     51717 non-null  object\n",
      " 11  listed_in(type)  51717 non-null  object\n",
      " 12  listed_in(city)  51717 non-null  object\n",
      "dtypes: int64(1), object(12)\n",
      "memory usage: 5.1+ MB\n"
     ]
    }
   ],
   "source": [
    "df.info()"
   ]
  },
  {
   "cell_type": "markdown",
   "id": "dd94740f-5dca-485c-8442-c4aed34e6b2a",
   "metadata": {},
   "source": [
    "# Data cleaning for every column to fit data in model."
   ]
  },
  {
   "cell_type": "code",
   "execution_count": 11,
   "id": "3520e205-0fd2-4506-b10b-c72784e128df",
   "metadata": {},
   "outputs": [
    {
     "data": {
      "text/plain": [
       "array(['4.1/5', '3.8/5', '3.7/5', '3.6/5', '4.6/5', '4.0/5', '4.2/5',\n",
       "       '3.9/5', '3.1/5', '3.0/5', '3.2/5', '3.3/5', '2.8/5', '4.4/5',\n",
       "       '4.3/5', 'NEW', '2.9/5', '3.5/5', nan, '2.6/5', '3.8 /5', '3.4/5',\n",
       "       '4.5/5', '2.5/5', '2.7/5', '4.7/5', '2.4/5', '2.2/5', '2.3/5',\n",
       "       '3.4 /5', '-', '3.6 /5', '4.8/5', '3.9 /5', '4.2 /5', '4.0 /5',\n",
       "       '4.1 /5', '3.7 /5', '3.1 /5', '2.9 /5', '3.3 /5', '2.8 /5',\n",
       "       '3.5 /5', '2.7 /5', '2.5 /5', '3.2 /5', '2.6 /5', '4.5 /5',\n",
       "       '4.3 /5', '4.4 /5', '4.9/5', '2.1/5', '2.0/5', '1.8/5', '4.6 /5',\n",
       "       '4.9 /5', '3.0 /5', '4.8 /5', '2.3 /5', '4.7 /5', '2.4 /5',\n",
       "       '2.1 /5', '2.2 /5', '2.0 /5', '1.8 /5'], dtype=object)"
      ]
     },
     "execution_count": 11,
     "metadata": {},
     "output_type": "execute_result"
    }
   ],
   "source": [
    "df.rate.unique()"
   ]
  },
  {
   "cell_type": "code",
   "execution_count": 12,
   "id": "2e28ea7b-cfac-4e46-bf9c-9c0c74e5165b",
   "metadata": {},
   "outputs": [],
   "source": [
    "df['rate'] = df['rate'].replace(\"-\",np.nan)\n",
    "df['rate'] = df['rate'].replace(\"NEW\",np.nan)\n",
    "df['rate'] = df['rate'].str.replace(\" \",\"\")"
   ]
  },
  {
   "cell_type": "code",
   "execution_count": 13,
   "id": "a98e03eb-2996-4cd3-8870-b8625edf47e8",
   "metadata": {},
   "outputs": [],
   "source": [
    "df['rate'] = df['rate'].str.replace(\"/5\",\"\").astype('float')"
   ]
  },
  {
   "cell_type": "code",
   "execution_count": 14,
   "id": "a91fe26e-ac90-4853-80af-4c834fadcf5c",
   "metadata": {},
   "outputs": [
    {
     "data": {
      "text/plain": [
       "rate\n",
       "3.9    3972\n",
       "3.8    3873\n",
       "3.7    3821\n",
       "3.6    3316\n",
       "4.0    3183\n",
       "4.1    2948\n",
       "3.5    2784\n",
       "3.4    2476\n",
       "3.3    2310\n",
       "4.2    2184\n",
       "Name: count, dtype: int64"
      ]
     },
     "execution_count": 14,
     "metadata": {},
     "output_type": "execute_result"
    }
   ],
   "source": [
    "df.rate.value_counts().head(10)"
   ]
  },
  {
   "cell_type": "markdown",
   "id": "711c9e1e-bbbb-4b17-a8d0-5e78fa1fd18b",
   "metadata": {},
   "source": [
    "# checking and Filling null values."
   ]
  },
  {
   "cell_type": "code",
   "execution_count": 15,
   "id": "d30f5466-ea0f-464f-a925-ee68532e9097",
   "metadata": {},
   "outputs": [
    {
     "data": {
      "text/plain": [
       "name                   0\n",
       "online_order           0\n",
       "book_table             0\n",
       "rate               10052\n",
       "votes                  0\n",
       "location              21\n",
       "rest_type            227\n",
       "dish_liked         28078\n",
       "cuisines              45\n",
       "Cost2plates          346\n",
       "reviews_list           0\n",
       "listed_in(type)        0\n",
       "listed_in(city)        0\n",
       "dtype: int64"
      ]
     },
     "execution_count": 15,
     "metadata": {},
     "output_type": "execute_result"
    }
   ],
   "source": [
    "df.isna().sum()"
   ]
  },
  {
   "cell_type": "code",
   "execution_count": 16,
   "id": "ad3acca2-fe98-4eb0-a132-b7cf611a3304",
   "metadata": {},
   "outputs": [
    {
     "data": {
      "text/plain": [
       "name                0.000000\n",
       "online_order        0.000000\n",
       "book_table          0.000000\n",
       "rate               19.436549\n",
       "votes               0.000000\n",
       "location            0.040606\n",
       "rest_type           0.438927\n",
       "dish_liked         54.291626\n",
       "cuisines            0.087012\n",
       "Cost2plates         0.669026\n",
       "reviews_list        0.000000\n",
       "listed_in(type)     0.000000\n",
       "listed_in(city)     0.000000\n",
       "dtype: float64"
      ]
     },
     "execution_count": 16,
     "metadata": {},
     "output_type": "execute_result"
    }
   ],
   "source": [
    "(df.isna().sum()/df.shape[0])*100"
   ]
  },
  {
   "cell_type": "code",
   "execution_count": 17,
   "id": "b6843e3f-e220-4c3a-982d-961b07513c3a",
   "metadata": {},
   "outputs": [],
   "source": [
    "df[\"rate\"]=df[\"rate\"].fillna(df.rate.median())"
   ]
  },
  {
   "cell_type": "code",
   "execution_count": 18,
   "id": "6ce7678c-7b8d-4bc4-9e47-0426d0290b40",
   "metadata": {},
   "outputs": [
    {
     "data": {
      "text/plain": [
       "0"
      ]
     },
     "execution_count": 18,
     "metadata": {},
     "output_type": "execute_result"
    }
   ],
   "source": [
    "df.rate.isna().sum()"
   ]
  },
  {
   "cell_type": "markdown",
   "id": "7996dfc5-1927-4b51-9e29-d5f983a3ab9e",
   "metadata": {},
   "source": [
    "# DO THE OBSERVATION OF THIS DISH_LIKED COLUMNS.IT HOLD A GREAT BUSINESS SIGNIFICANCE."
   ]
  },
  {
   "cell_type": "code",
   "execution_count": 19,
   "id": "d733ec6f-2d2e-4235-aab0-7b06c74de825",
   "metadata": {},
   "outputs": [
    {
     "data": {
      "text/plain": [
       "array(['Pasta, Lunch Buffet, Masala Papad, Paneer Lajawab, Tomato Shorba, Dum Biryani, Sweet Corn Soup',\n",
       "       'Momos, Lunch Buffet, Chocolate Nirvana, Thai Green Curry, Paneer Tikka, Dum Biryani, Chicken Biryani',\n",
       "       'Churros, Cannelloni, Minestrone Soup, Hot Chocolate, Pink Sauce Pasta, Salsa, Veg Supreme Pizza',\n",
       "       ...,\n",
       "       'Noodles, Chicken Noodle, Momos, American Chopsuey, Salad, Manchow Soup, Manchurian',\n",
       "       'Chicken Quesadilla, Naan, Breakfast Buffet, Cheesecake, Cocktails, Lunch Buffet, Biryani',\n",
       "       'Biryani, Andhra Meal'], dtype=object)"
      ]
     },
     "execution_count": 19,
     "metadata": {},
     "output_type": "execute_result"
    }
   ],
   "source": [
    "df.dish_liked.unique()"
   ]
  },
  {
   "cell_type": "code",
   "execution_count": 20,
   "id": "5fc93383-df90-493f-bbc4-c0a11c5f4685",
   "metadata": {},
   "outputs": [
    {
     "data": {
      "text/plain": [
       "dish_liked\n",
       "Biryani             182\n",
       "Chicken Biryani      73\n",
       "Friendly Staff       69\n",
       "Waffles              68\n",
       "Paratha              57\n",
       "Masala Dosa          56\n",
       "Coffee               42\n",
       "Rooftop Ambience     42\n",
       "Pizza                38\n",
       "Burgers              33\n",
       "Name: count, dtype: int64"
      ]
     },
     "execution_count": 20,
     "metadata": {},
     "output_type": "execute_result"
    }
   ],
   "source": [
    "df.dish_liked.value_counts().head(10)"
   ]
  },
  {
   "cell_type": "code",
   "execution_count": 21,
   "id": "29d4a578-91d2-4b26-b39a-152b293b9ac4",
   "metadata": {},
   "outputs": [],
   "source": [
    "df1=df.loc[:,[\"name\",\"dish_liked\",\"cuisines\"]]"
   ]
  },
  {
   "cell_type": "code",
   "execution_count": 22,
   "id": "65556a93-519a-4dfc-aa7d-cbd471926b6b",
   "metadata": {},
   "outputs": [
    {
     "data": {
      "text/html": [
       "<div>\n",
       "<style scoped>\n",
       "    .dataframe tbody tr th:only-of-type {\n",
       "        vertical-align: middle;\n",
       "    }\n",
       "\n",
       "    .dataframe tbody tr th {\n",
       "        vertical-align: top;\n",
       "    }\n",
       "\n",
       "    .dataframe thead th {\n",
       "        text-align: right;\n",
       "    }\n",
       "</style>\n",
       "<table border=\"1\" class=\"dataframe\">\n",
       "  <thead>\n",
       "    <tr style=\"text-align: right;\">\n",
       "      <th></th>\n",
       "      <th>name</th>\n",
       "      <th>dish_liked</th>\n",
       "      <th>cuisines</th>\n",
       "    </tr>\n",
       "  </thead>\n",
       "  <tbody>\n",
       "    <tr>\n",
       "      <th>0</th>\n",
       "      <td>Jalsa</td>\n",
       "      <td>Pasta, Lunch Buffet, Masala Papad, Paneer Laja...</td>\n",
       "      <td>North Indian, Mughlai, Chinese</td>\n",
       "    </tr>\n",
       "    <tr>\n",
       "      <th>1</th>\n",
       "      <td>Spice Elephant</td>\n",
       "      <td>Momos, Lunch Buffet, Chocolate Nirvana, Thai G...</td>\n",
       "      <td>Chinese, North Indian, Thai</td>\n",
       "    </tr>\n",
       "    <tr>\n",
       "      <th>2</th>\n",
       "      <td>San Churro Cafe</td>\n",
       "      <td>Churros, Cannelloni, Minestrone Soup, Hot Choc...</td>\n",
       "      <td>Cafe, Mexican, Italian</td>\n",
       "    </tr>\n",
       "    <tr>\n",
       "      <th>3</th>\n",
       "      <td>Addhuri Udupi Bhojana</td>\n",
       "      <td>Masala Dosa</td>\n",
       "      <td>South Indian, North Indian</td>\n",
       "    </tr>\n",
       "    <tr>\n",
       "      <th>4</th>\n",
       "      <td>Grand Village</td>\n",
       "      <td>Panipuri, Gol Gappe</td>\n",
       "      <td>North Indian, Rajasthani</td>\n",
       "    </tr>\n",
       "    <tr>\n",
       "      <th>5</th>\n",
       "      <td>Timepass Dinner</td>\n",
       "      <td>Onion Rings, Pasta, Kadhai Paneer, Salads, Sal...</td>\n",
       "      <td>North Indian</td>\n",
       "    </tr>\n",
       "    <tr>\n",
       "      <th>6</th>\n",
       "      <td>Rosewood International Hotel - Bar &amp; Restaurant</td>\n",
       "      <td>NaN</td>\n",
       "      <td>North Indian, South Indian, Andhra, Chinese</td>\n",
       "    </tr>\n",
       "    <tr>\n",
       "      <th>7</th>\n",
       "      <td>Onesta</td>\n",
       "      <td>Farmhouse Pizza, Chocolate Banana, Virgin Moji...</td>\n",
       "      <td>Pizza, Cafe, Italian</td>\n",
       "    </tr>\n",
       "    <tr>\n",
       "      <th>8</th>\n",
       "      <td>Penthouse Cafe</td>\n",
       "      <td>Pizza, Mocktails, Coffee, Nachos, Salad, Pasta...</td>\n",
       "      <td>Cafe, Italian, Continental</td>\n",
       "    </tr>\n",
       "    <tr>\n",
       "      <th>9</th>\n",
       "      <td>Smacznego</td>\n",
       "      <td>Waffles, Pasta, Coleslaw Sandwich, Choco Waffl...</td>\n",
       "      <td>Cafe, Mexican, Italian, Momos, Beverages</td>\n",
       "    </tr>\n",
       "  </tbody>\n",
       "</table>\n",
       "</div>"
      ],
      "text/plain": [
       "                                              name  \\\n",
       "0                                            Jalsa   \n",
       "1                                   Spice Elephant   \n",
       "2                                  San Churro Cafe   \n",
       "3                            Addhuri Udupi Bhojana   \n",
       "4                                    Grand Village   \n",
       "5                                  Timepass Dinner   \n",
       "6  Rosewood International Hotel - Bar & Restaurant   \n",
       "7                                           Onesta   \n",
       "8                                   Penthouse Cafe   \n",
       "9                                        Smacznego   \n",
       "\n",
       "                                          dish_liked  \\\n",
       "0  Pasta, Lunch Buffet, Masala Papad, Paneer Laja...   \n",
       "1  Momos, Lunch Buffet, Chocolate Nirvana, Thai G...   \n",
       "2  Churros, Cannelloni, Minestrone Soup, Hot Choc...   \n",
       "3                                        Masala Dosa   \n",
       "4                                Panipuri, Gol Gappe   \n",
       "5  Onion Rings, Pasta, Kadhai Paneer, Salads, Sal...   \n",
       "6                                                NaN   \n",
       "7  Farmhouse Pizza, Chocolate Banana, Virgin Moji...   \n",
       "8  Pizza, Mocktails, Coffee, Nachos, Salad, Pasta...   \n",
       "9  Waffles, Pasta, Coleslaw Sandwich, Choco Waffl...   \n",
       "\n",
       "                                      cuisines  \n",
       "0               North Indian, Mughlai, Chinese  \n",
       "1                  Chinese, North Indian, Thai  \n",
       "2                       Cafe, Mexican, Italian  \n",
       "3                   South Indian, North Indian  \n",
       "4                     North Indian, Rajasthani  \n",
       "5                                 North Indian  \n",
       "6  North Indian, South Indian, Andhra, Chinese  \n",
       "7                         Pizza, Cafe, Italian  \n",
       "8                   Cafe, Italian, Continental  \n",
       "9     Cafe, Mexican, Italian, Momos, Beverages  "
      ]
     },
     "execution_count": 22,
     "metadata": {},
     "output_type": "execute_result"
    }
   ],
   "source": [
    "df1.head(10)"
   ]
  },
  {
   "cell_type": "code",
   "execution_count": 23,
   "id": "815a7ab0-e7bb-4348-8fe7-d5672684812a",
   "metadata": {},
   "outputs": [
    {
     "data": {
      "text/html": [
       "<div>\n",
       "<style scoped>\n",
       "    .dataframe tbody tr th:only-of-type {\n",
       "        vertical-align: middle;\n",
       "    }\n",
       "\n",
       "    .dataframe tbody tr th {\n",
       "        vertical-align: top;\n",
       "    }\n",
       "\n",
       "    .dataframe thead th {\n",
       "        text-align: right;\n",
       "    }\n",
       "</style>\n",
       "<table border=\"1\" class=\"dataframe\">\n",
       "  <thead>\n",
       "    <tr style=\"text-align: right;\">\n",
       "      <th></th>\n",
       "      <th>name</th>\n",
       "      <th>online_order</th>\n",
       "      <th>book_table</th>\n",
       "      <th>rate</th>\n",
       "      <th>votes</th>\n",
       "      <th>location</th>\n",
       "      <th>rest_type</th>\n",
       "      <th>dish_liked</th>\n",
       "      <th>cuisines</th>\n",
       "      <th>Cost2plates</th>\n",
       "      <th>reviews_list</th>\n",
       "      <th>listed_in(type)</th>\n",
       "      <th>listed_in(city)</th>\n",
       "    </tr>\n",
       "  </thead>\n",
       "  <tbody>\n",
       "    <tr>\n",
       "      <th>6</th>\n",
       "      <td>Rosewood International Hotel - Bar &amp; Restaurant</td>\n",
       "      <td>No</td>\n",
       "      <td>No</td>\n",
       "      <td>3.6</td>\n",
       "      <td>8</td>\n",
       "      <td>Mysore Road</td>\n",
       "      <td>Casual Dining</td>\n",
       "      <td>NaN</td>\n",
       "      <td>North Indian, South Indian, Andhra, Chinese</td>\n",
       "      <td>800</td>\n",
       "      <td>[('Rated 5.0', 'RATED\\n  Awesome food ??Great ...</td>\n",
       "      <td>Buffet</td>\n",
       "      <td>Banashankari</td>\n",
       "    </tr>\n",
       "    <tr>\n",
       "      <th>239</th>\n",
       "      <td>Rosewood International Hotel - Bar &amp; Restaurant</td>\n",
       "      <td>No</td>\n",
       "      <td>No</td>\n",
       "      <td>3.6</td>\n",
       "      <td>8</td>\n",
       "      <td>Mysore Road</td>\n",
       "      <td>Casual Dining</td>\n",
       "      <td>NaN</td>\n",
       "      <td>North Indian, South Indian, Andhra, Chinese</td>\n",
       "      <td>800</td>\n",
       "      <td>[('Rated 5.0', 'RATED\\n  Awesome food ??Great ...</td>\n",
       "      <td>Delivery</td>\n",
       "      <td>Banashankari</td>\n",
       "    </tr>\n",
       "    <tr>\n",
       "      <th>823</th>\n",
       "      <td>Rosewood International Hotel - Bar &amp; Restaurant</td>\n",
       "      <td>No</td>\n",
       "      <td>No</td>\n",
       "      <td>3.6</td>\n",
       "      <td>8</td>\n",
       "      <td>Mysore Road</td>\n",
       "      <td>Casual Dining</td>\n",
       "      <td>NaN</td>\n",
       "      <td>North Indian, South Indian, Andhra, Chinese</td>\n",
       "      <td>800</td>\n",
       "      <td>[('Rated 5.0', 'RATED\\n  Awesome food ??Great ...</td>\n",
       "      <td>Dine-out</td>\n",
       "      <td>Banashankari</td>\n",
       "    </tr>\n",
       "    <tr>\n",
       "      <th>1189</th>\n",
       "      <td>A1 Garam Masala</td>\n",
       "      <td>Yes</td>\n",
       "      <td>No</td>\n",
       "      <td>3.6</td>\n",
       "      <td>25</td>\n",
       "      <td>Kanakapura Road</td>\n",
       "      <td>Casual Dining</td>\n",
       "      <td>NaN</td>\n",
       "      <td>North Indian, South Indian, Andhra, Chinese</td>\n",
       "      <td>600</td>\n",
       "      <td>[('Rated 5.0', 'RATED\\n  The food was very goo...</td>\n",
       "      <td>Delivery</td>\n",
       "      <td>Bannerghatta Road</td>\n",
       "    </tr>\n",
       "    <tr>\n",
       "      <th>10905</th>\n",
       "      <td>Public - The Rooftop Bar And Kitchen</td>\n",
       "      <td>No</td>\n",
       "      <td>Yes</td>\n",
       "      <td>4.3</td>\n",
       "      <td>956</td>\n",
       "      <td>Bannerghatta Road</td>\n",
       "      <td>Casual Dining, Bar</td>\n",
       "      <td>Cocktails, Butter Chicken, Beer, Biryani, Tand...</td>\n",
       "      <td>North Indian, South Indian, Andhra, Chinese</td>\n",
       "      <td>1,000</td>\n",
       "      <td>[('Rated 4.0', 'RATED\\n  Last Friday, I went o...</td>\n",
       "      <td>Dine-out</td>\n",
       "      <td>BTM</td>\n",
       "    </tr>\n",
       "  </tbody>\n",
       "</table>\n",
       "</div>"
      ],
      "text/plain": [
       "                                                  name online_order  \\\n",
       "6      Rosewood International Hotel - Bar & Restaurant           No   \n",
       "239    Rosewood International Hotel - Bar & Restaurant           No   \n",
       "823    Rosewood International Hotel - Bar & Restaurant           No   \n",
       "1189                                   A1 Garam Masala          Yes   \n",
       "10905             Public - The Rooftop Bar And Kitchen           No   \n",
       "\n",
       "      book_table  rate  votes           location           rest_type  \\\n",
       "6             No   3.6      8        Mysore Road       Casual Dining   \n",
       "239           No   3.6      8        Mysore Road       Casual Dining   \n",
       "823           No   3.6      8        Mysore Road       Casual Dining   \n",
       "1189          No   3.6     25    Kanakapura Road       Casual Dining   \n",
       "10905        Yes   4.3    956  Bannerghatta Road  Casual Dining, Bar   \n",
       "\n",
       "                                              dish_liked  \\\n",
       "6                                                    NaN   \n",
       "239                                                  NaN   \n",
       "823                                                  NaN   \n",
       "1189                                                 NaN   \n",
       "10905  Cocktails, Butter Chicken, Beer, Biryani, Tand...   \n",
       "\n",
       "                                          cuisines Cost2plates  \\\n",
       "6      North Indian, South Indian, Andhra, Chinese         800   \n",
       "239    North Indian, South Indian, Andhra, Chinese         800   \n",
       "823    North Indian, South Indian, Andhra, Chinese         800   \n",
       "1189   North Indian, South Indian, Andhra, Chinese         600   \n",
       "10905  North Indian, South Indian, Andhra, Chinese       1,000   \n",
       "\n",
       "                                            reviews_list listed_in(type)  \\\n",
       "6      [('Rated 5.0', 'RATED\\n  Awesome food ??Great ...          Buffet   \n",
       "239    [('Rated 5.0', 'RATED\\n  Awesome food ??Great ...        Delivery   \n",
       "823    [('Rated 5.0', 'RATED\\n  Awesome food ??Great ...        Dine-out   \n",
       "1189   [('Rated 5.0', 'RATED\\n  The food was very goo...        Delivery   \n",
       "10905  [('Rated 4.0', 'RATED\\n  Last Friday, I went o...        Dine-out   \n",
       "\n",
       "         listed_in(city)  \n",
       "6           Banashankari  \n",
       "239         Banashankari  \n",
       "823         Banashankari  \n",
       "1189   Bannerghatta Road  \n",
       "10905                BTM  "
      ]
     },
     "execution_count": 23,
     "metadata": {},
     "output_type": "execute_result"
    }
   ],
   "source": [
    "df[df[\"cuisines\"]==\"North Indian, South Indian, Andhra, Chinese\"].head(5)"
   ]
  },
  {
   "cell_type": "code",
   "execution_count": 24,
   "id": "7ea85c9e-b3e5-486c-a493-a92f7dafd434",
   "metadata": {},
   "outputs": [],
   "source": [
    "df[\"dish_liked\"]=df[df[\"cuisines\"]==\"North Indian, South Indian, Andhra, Chinese\"][\"dish_liked\"].fillna(\"Cocktails, Butter Chicken, Beer, Biryani, Tandoori Chicken, Nachos, Roti\")"
   ]
  },
  {
   "cell_type": "code",
   "execution_count": 25,
   "id": "a319f9f7-a37e-4a93-b87d-dacfc9d7f444",
   "metadata": {},
   "outputs": [
    {
     "data": {
      "text/html": [
       "<div>\n",
       "<style scoped>\n",
       "    .dataframe tbody tr th:only-of-type {\n",
       "        vertical-align: middle;\n",
       "    }\n",
       "\n",
       "    .dataframe tbody tr th {\n",
       "        vertical-align: top;\n",
       "    }\n",
       "\n",
       "    .dataframe thead th {\n",
       "        text-align: right;\n",
       "    }\n",
       "</style>\n",
       "<table border=\"1\" class=\"dataframe\">\n",
       "  <thead>\n",
       "    <tr style=\"text-align: right;\">\n",
       "      <th></th>\n",
       "      <th>name</th>\n",
       "      <th>online_order</th>\n",
       "      <th>book_table</th>\n",
       "      <th>rate</th>\n",
       "      <th>votes</th>\n",
       "      <th>location</th>\n",
       "      <th>rest_type</th>\n",
       "      <th>dish_liked</th>\n",
       "      <th>cuisines</th>\n",
       "      <th>Cost2plates</th>\n",
       "      <th>reviews_list</th>\n",
       "      <th>listed_in(type)</th>\n",
       "      <th>listed_in(city)</th>\n",
       "    </tr>\n",
       "  </thead>\n",
       "  <tbody>\n",
       "    <tr>\n",
       "      <th>6</th>\n",
       "      <td>Rosewood International Hotel - Bar &amp; Restaurant</td>\n",
       "      <td>No</td>\n",
       "      <td>No</td>\n",
       "      <td>3.6</td>\n",
       "      <td>8</td>\n",
       "      <td>Mysore Road</td>\n",
       "      <td>Casual Dining</td>\n",
       "      <td>Cocktails, Butter Chicken, Beer, Biryani, Tand...</td>\n",
       "      <td>North Indian, South Indian, Andhra, Chinese</td>\n",
       "      <td>800</td>\n",
       "      <td>[('Rated 5.0', 'RATED\\n  Awesome food ??Great ...</td>\n",
       "      <td>Buffet</td>\n",
       "      <td>Banashankari</td>\n",
       "    </tr>\n",
       "    <tr>\n",
       "      <th>239</th>\n",
       "      <td>Rosewood International Hotel - Bar &amp; Restaurant</td>\n",
       "      <td>No</td>\n",
       "      <td>No</td>\n",
       "      <td>3.6</td>\n",
       "      <td>8</td>\n",
       "      <td>Mysore Road</td>\n",
       "      <td>Casual Dining</td>\n",
       "      <td>Cocktails, Butter Chicken, Beer, Biryani, Tand...</td>\n",
       "      <td>North Indian, South Indian, Andhra, Chinese</td>\n",
       "      <td>800</td>\n",
       "      <td>[('Rated 5.0', 'RATED\\n  Awesome food ??Great ...</td>\n",
       "      <td>Delivery</td>\n",
       "      <td>Banashankari</td>\n",
       "    </tr>\n",
       "    <tr>\n",
       "      <th>823</th>\n",
       "      <td>Rosewood International Hotel - Bar &amp; Restaurant</td>\n",
       "      <td>No</td>\n",
       "      <td>No</td>\n",
       "      <td>3.6</td>\n",
       "      <td>8</td>\n",
       "      <td>Mysore Road</td>\n",
       "      <td>Casual Dining</td>\n",
       "      <td>Cocktails, Butter Chicken, Beer, Biryani, Tand...</td>\n",
       "      <td>North Indian, South Indian, Andhra, Chinese</td>\n",
       "      <td>800</td>\n",
       "      <td>[('Rated 5.0', 'RATED\\n  Awesome food ??Great ...</td>\n",
       "      <td>Dine-out</td>\n",
       "      <td>Banashankari</td>\n",
       "    </tr>\n",
       "    <tr>\n",
       "      <th>1189</th>\n",
       "      <td>A1 Garam Masala</td>\n",
       "      <td>Yes</td>\n",
       "      <td>No</td>\n",
       "      <td>3.6</td>\n",
       "      <td>25</td>\n",
       "      <td>Kanakapura Road</td>\n",
       "      <td>Casual Dining</td>\n",
       "      <td>Cocktails, Butter Chicken, Beer, Biryani, Tand...</td>\n",
       "      <td>North Indian, South Indian, Andhra, Chinese</td>\n",
       "      <td>600</td>\n",
       "      <td>[('Rated 5.0', 'RATED\\n  The food was very goo...</td>\n",
       "      <td>Delivery</td>\n",
       "      <td>Bannerghatta Road</td>\n",
       "    </tr>\n",
       "    <tr>\n",
       "      <th>10905</th>\n",
       "      <td>Public - The Rooftop Bar And Kitchen</td>\n",
       "      <td>No</td>\n",
       "      <td>Yes</td>\n",
       "      <td>4.3</td>\n",
       "      <td>956</td>\n",
       "      <td>Bannerghatta Road</td>\n",
       "      <td>Casual Dining, Bar</td>\n",
       "      <td>Cocktails, Butter Chicken, Beer, Biryani, Tand...</td>\n",
       "      <td>North Indian, South Indian, Andhra, Chinese</td>\n",
       "      <td>1,000</td>\n",
       "      <td>[('Rated 4.0', 'RATED\\n  Last Friday, I went o...</td>\n",
       "      <td>Dine-out</td>\n",
       "      <td>BTM</td>\n",
       "    </tr>\n",
       "    <tr>\n",
       "      <th>11511</th>\n",
       "      <td>Public - The Rooftop Bar And Kitchen</td>\n",
       "      <td>No</td>\n",
       "      <td>Yes</td>\n",
       "      <td>4.3</td>\n",
       "      <td>958</td>\n",
       "      <td>Bannerghatta Road</td>\n",
       "      <td>Casual Dining, Bar</td>\n",
       "      <td>Cocktails, Butter Chicken, Beer, Biryani, Tand...</td>\n",
       "      <td>North Indian, South Indian, Andhra, Chinese</td>\n",
       "      <td>1,000</td>\n",
       "      <td>[('Rated 4.0', 'RATED\\n  Last Friday, I went o...</td>\n",
       "      <td>Pubs and bars</td>\n",
       "      <td>BTM</td>\n",
       "    </tr>\n",
       "    <tr>\n",
       "      <th>23460</th>\n",
       "      <td>Public - The Rooftop Bar And Kitchen</td>\n",
       "      <td>No</td>\n",
       "      <td>Yes</td>\n",
       "      <td>4.3</td>\n",
       "      <td>966</td>\n",
       "      <td>Bannerghatta Road</td>\n",
       "      <td>Casual Dining, Bar</td>\n",
       "      <td>Cocktails, Butter Chicken, Vegetable Biryani, ...</td>\n",
       "      <td>North Indian, South Indian, Andhra, Chinese</td>\n",
       "      <td>1,000</td>\n",
       "      <td>[('Rated 4.0', 'RATED\\n  Last Friday, I went o...</td>\n",
       "      <td>Dine-out</td>\n",
       "      <td>JP Nagar</td>\n",
       "    </tr>\n",
       "  </tbody>\n",
       "</table>\n",
       "</div>"
      ],
      "text/plain": [
       "                                                  name online_order  \\\n",
       "6      Rosewood International Hotel - Bar & Restaurant           No   \n",
       "239    Rosewood International Hotel - Bar & Restaurant           No   \n",
       "823    Rosewood International Hotel - Bar & Restaurant           No   \n",
       "1189                                   A1 Garam Masala          Yes   \n",
       "10905             Public - The Rooftop Bar And Kitchen           No   \n",
       "11511             Public - The Rooftop Bar And Kitchen           No   \n",
       "23460             Public - The Rooftop Bar And Kitchen           No   \n",
       "\n",
       "      book_table  rate  votes           location           rest_type  \\\n",
       "6             No   3.6      8        Mysore Road       Casual Dining   \n",
       "239           No   3.6      8        Mysore Road       Casual Dining   \n",
       "823           No   3.6      8        Mysore Road       Casual Dining   \n",
       "1189          No   3.6     25    Kanakapura Road       Casual Dining   \n",
       "10905        Yes   4.3    956  Bannerghatta Road  Casual Dining, Bar   \n",
       "11511        Yes   4.3    958  Bannerghatta Road  Casual Dining, Bar   \n",
       "23460        Yes   4.3    966  Bannerghatta Road  Casual Dining, Bar   \n",
       "\n",
       "                                              dish_liked  \\\n",
       "6      Cocktails, Butter Chicken, Beer, Biryani, Tand...   \n",
       "239    Cocktails, Butter Chicken, Beer, Biryani, Tand...   \n",
       "823    Cocktails, Butter Chicken, Beer, Biryani, Tand...   \n",
       "1189   Cocktails, Butter Chicken, Beer, Biryani, Tand...   \n",
       "10905  Cocktails, Butter Chicken, Beer, Biryani, Tand...   \n",
       "11511  Cocktails, Butter Chicken, Beer, Biryani, Tand...   \n",
       "23460  Cocktails, Butter Chicken, Vegetable Biryani, ...   \n",
       "\n",
       "                                          cuisines Cost2plates  \\\n",
       "6      North Indian, South Indian, Andhra, Chinese         800   \n",
       "239    North Indian, South Indian, Andhra, Chinese         800   \n",
       "823    North Indian, South Indian, Andhra, Chinese         800   \n",
       "1189   North Indian, South Indian, Andhra, Chinese         600   \n",
       "10905  North Indian, South Indian, Andhra, Chinese       1,000   \n",
       "11511  North Indian, South Indian, Andhra, Chinese       1,000   \n",
       "23460  North Indian, South Indian, Andhra, Chinese       1,000   \n",
       "\n",
       "                                            reviews_list listed_in(type)  \\\n",
       "6      [('Rated 5.0', 'RATED\\n  Awesome food ??Great ...          Buffet   \n",
       "239    [('Rated 5.0', 'RATED\\n  Awesome food ??Great ...        Delivery   \n",
       "823    [('Rated 5.0', 'RATED\\n  Awesome food ??Great ...        Dine-out   \n",
       "1189   [('Rated 5.0', 'RATED\\n  The food was very goo...        Delivery   \n",
       "10905  [('Rated 4.0', 'RATED\\n  Last Friday, I went o...        Dine-out   \n",
       "11511  [('Rated 4.0', 'RATED\\n  Last Friday, I went o...   Pubs and bars   \n",
       "23460  [('Rated 4.0', 'RATED\\n  Last Friday, I went o...        Dine-out   \n",
       "\n",
       "         listed_in(city)  \n",
       "6           Banashankari  \n",
       "239         Banashankari  \n",
       "823         Banashankari  \n",
       "1189   Bannerghatta Road  \n",
       "10905                BTM  \n",
       "11511                BTM  \n",
       "23460           JP Nagar  "
      ]
     },
     "execution_count": 25,
     "metadata": {},
     "output_type": "execute_result"
    }
   ],
   "source": [
    "df[df[\"cuisines\"]==\"North Indian, South Indian, Andhra, Chinese\"]"
   ]
  },
  {
   "cell_type": "code",
   "execution_count": 26,
   "id": "2899e623-9b3a-459b-815a-ebdafdda9940",
   "metadata": {},
   "outputs": [],
   "source": [
    "df[\"dish_liked\"]=df[\"dish_liked\"].fillna(df[\"dish_liked\"].mode()[0])"
   ]
  },
  {
   "cell_type": "code",
   "execution_count": 27,
   "id": "48b383aa-9376-49ae-adb9-7f0a7ec172fe",
   "metadata": {},
   "outputs": [
    {
     "data": {
      "text/plain": [
       "0"
      ]
     },
     "execution_count": 27,
     "metadata": {},
     "output_type": "execute_result"
    }
   ],
   "source": [
    "df.dish_liked.isna().sum()"
   ]
  },
  {
   "cell_type": "code",
   "execution_count": 28,
   "id": "a0fa3108-d835-4473-92b9-73473602eb2f",
   "metadata": {},
   "outputs": [
    {
     "data": {
      "text/html": [
       "<div>\n",
       "<style scoped>\n",
       "    .dataframe tbody tr th:only-of-type {\n",
       "        vertical-align: middle;\n",
       "    }\n",
       "\n",
       "    .dataframe tbody tr th {\n",
       "        vertical-align: top;\n",
       "    }\n",
       "\n",
       "    .dataframe thead th {\n",
       "        text-align: right;\n",
       "    }\n",
       "</style>\n",
       "<table border=\"1\" class=\"dataframe\">\n",
       "  <thead>\n",
       "    <tr style=\"text-align: right;\">\n",
       "      <th></th>\n",
       "      <th>name</th>\n",
       "      <th>online_order</th>\n",
       "      <th>book_table</th>\n",
       "      <th>rate</th>\n",
       "      <th>votes</th>\n",
       "      <th>location</th>\n",
       "      <th>rest_type</th>\n",
       "      <th>dish_liked</th>\n",
       "      <th>cuisines</th>\n",
       "      <th>Cost2plates</th>\n",
       "      <th>reviews_list</th>\n",
       "      <th>listed_in(type)</th>\n",
       "      <th>listed_in(city)</th>\n",
       "    </tr>\n",
       "  </thead>\n",
       "  <tbody>\n",
       "    <tr>\n",
       "      <th>6</th>\n",
       "      <td>Rosewood International Hotel - Bar &amp; Restaurant</td>\n",
       "      <td>No</td>\n",
       "      <td>No</td>\n",
       "      <td>3.6</td>\n",
       "      <td>8</td>\n",
       "      <td>Mysore Road</td>\n",
       "      <td>Casual Dining</td>\n",
       "      <td>Cocktails, Butter Chicken, Beer, Biryani, Tand...</td>\n",
       "      <td>North Indian, South Indian, Andhra, Chinese</td>\n",
       "      <td>800</td>\n",
       "      <td>[('Rated 5.0', 'RATED\\n  Awesome food ??Great ...</td>\n",
       "      <td>Buffet</td>\n",
       "      <td>Banashankari</td>\n",
       "    </tr>\n",
       "    <tr>\n",
       "      <th>239</th>\n",
       "      <td>Rosewood International Hotel - Bar &amp; Restaurant</td>\n",
       "      <td>No</td>\n",
       "      <td>No</td>\n",
       "      <td>3.6</td>\n",
       "      <td>8</td>\n",
       "      <td>Mysore Road</td>\n",
       "      <td>Casual Dining</td>\n",
       "      <td>Cocktails, Butter Chicken, Beer, Biryani, Tand...</td>\n",
       "      <td>North Indian, South Indian, Andhra, Chinese</td>\n",
       "      <td>800</td>\n",
       "      <td>[('Rated 5.0', 'RATED\\n  Awesome food ??Great ...</td>\n",
       "      <td>Delivery</td>\n",
       "      <td>Banashankari</td>\n",
       "    </tr>\n",
       "    <tr>\n",
       "      <th>823</th>\n",
       "      <td>Rosewood International Hotel - Bar &amp; Restaurant</td>\n",
       "      <td>No</td>\n",
       "      <td>No</td>\n",
       "      <td>3.6</td>\n",
       "      <td>8</td>\n",
       "      <td>Mysore Road</td>\n",
       "      <td>Casual Dining</td>\n",
       "      <td>Cocktails, Butter Chicken, Beer, Biryani, Tand...</td>\n",
       "      <td>North Indian, South Indian, Andhra, Chinese</td>\n",
       "      <td>800</td>\n",
       "      <td>[('Rated 5.0', 'RATED\\n  Awesome food ??Great ...</td>\n",
       "      <td>Dine-out</td>\n",
       "      <td>Banashankari</td>\n",
       "    </tr>\n",
       "    <tr>\n",
       "      <th>1189</th>\n",
       "      <td>A1 Garam Masala</td>\n",
       "      <td>Yes</td>\n",
       "      <td>No</td>\n",
       "      <td>3.6</td>\n",
       "      <td>25</td>\n",
       "      <td>Kanakapura Road</td>\n",
       "      <td>Casual Dining</td>\n",
       "      <td>Cocktails, Butter Chicken, Beer, Biryani, Tand...</td>\n",
       "      <td>North Indian, South Indian, Andhra, Chinese</td>\n",
       "      <td>600</td>\n",
       "      <td>[('Rated 5.0', 'RATED\\n  The food was very goo...</td>\n",
       "      <td>Delivery</td>\n",
       "      <td>Bannerghatta Road</td>\n",
       "    </tr>\n",
       "    <tr>\n",
       "      <th>10905</th>\n",
       "      <td>Public - The Rooftop Bar And Kitchen</td>\n",
       "      <td>No</td>\n",
       "      <td>Yes</td>\n",
       "      <td>4.3</td>\n",
       "      <td>956</td>\n",
       "      <td>Bannerghatta Road</td>\n",
       "      <td>Casual Dining, Bar</td>\n",
       "      <td>Cocktails, Butter Chicken, Beer, Biryani, Tand...</td>\n",
       "      <td>North Indian, South Indian, Andhra, Chinese</td>\n",
       "      <td>1,000</td>\n",
       "      <td>[('Rated 4.0', 'RATED\\n  Last Friday, I went o...</td>\n",
       "      <td>Dine-out</td>\n",
       "      <td>BTM</td>\n",
       "    </tr>\n",
       "    <tr>\n",
       "      <th>11511</th>\n",
       "      <td>Public - The Rooftop Bar And Kitchen</td>\n",
       "      <td>No</td>\n",
       "      <td>Yes</td>\n",
       "      <td>4.3</td>\n",
       "      <td>958</td>\n",
       "      <td>Bannerghatta Road</td>\n",
       "      <td>Casual Dining, Bar</td>\n",
       "      <td>Cocktails, Butter Chicken, Beer, Biryani, Tand...</td>\n",
       "      <td>North Indian, South Indian, Andhra, Chinese</td>\n",
       "      <td>1,000</td>\n",
       "      <td>[('Rated 4.0', 'RATED\\n  Last Friday, I went o...</td>\n",
       "      <td>Pubs and bars</td>\n",
       "      <td>BTM</td>\n",
       "    </tr>\n",
       "    <tr>\n",
       "      <th>23460</th>\n",
       "      <td>Public - The Rooftop Bar And Kitchen</td>\n",
       "      <td>No</td>\n",
       "      <td>Yes</td>\n",
       "      <td>4.3</td>\n",
       "      <td>966</td>\n",
       "      <td>Bannerghatta Road</td>\n",
       "      <td>Casual Dining, Bar</td>\n",
       "      <td>Cocktails, Butter Chicken, Vegetable Biryani, ...</td>\n",
       "      <td>North Indian, South Indian, Andhra, Chinese</td>\n",
       "      <td>1,000</td>\n",
       "      <td>[('Rated 4.0', 'RATED\\n  Last Friday, I went o...</td>\n",
       "      <td>Dine-out</td>\n",
       "      <td>JP Nagar</td>\n",
       "    </tr>\n",
       "  </tbody>\n",
       "</table>\n",
       "</div>"
      ],
      "text/plain": [
       "                                                  name online_order  \\\n",
       "6      Rosewood International Hotel - Bar & Restaurant           No   \n",
       "239    Rosewood International Hotel - Bar & Restaurant           No   \n",
       "823    Rosewood International Hotel - Bar & Restaurant           No   \n",
       "1189                                   A1 Garam Masala          Yes   \n",
       "10905             Public - The Rooftop Bar And Kitchen           No   \n",
       "11511             Public - The Rooftop Bar And Kitchen           No   \n",
       "23460             Public - The Rooftop Bar And Kitchen           No   \n",
       "\n",
       "      book_table  rate  votes           location           rest_type  \\\n",
       "6             No   3.6      8        Mysore Road       Casual Dining   \n",
       "239           No   3.6      8        Mysore Road       Casual Dining   \n",
       "823           No   3.6      8        Mysore Road       Casual Dining   \n",
       "1189          No   3.6     25    Kanakapura Road       Casual Dining   \n",
       "10905        Yes   4.3    956  Bannerghatta Road  Casual Dining, Bar   \n",
       "11511        Yes   4.3    958  Bannerghatta Road  Casual Dining, Bar   \n",
       "23460        Yes   4.3    966  Bannerghatta Road  Casual Dining, Bar   \n",
       "\n",
       "                                              dish_liked  \\\n",
       "6      Cocktails, Butter Chicken, Beer, Biryani, Tand...   \n",
       "239    Cocktails, Butter Chicken, Beer, Biryani, Tand...   \n",
       "823    Cocktails, Butter Chicken, Beer, Biryani, Tand...   \n",
       "1189   Cocktails, Butter Chicken, Beer, Biryani, Tand...   \n",
       "10905  Cocktails, Butter Chicken, Beer, Biryani, Tand...   \n",
       "11511  Cocktails, Butter Chicken, Beer, Biryani, Tand...   \n",
       "23460  Cocktails, Butter Chicken, Vegetable Biryani, ...   \n",
       "\n",
       "                                          cuisines Cost2plates  \\\n",
       "6      North Indian, South Indian, Andhra, Chinese         800   \n",
       "239    North Indian, South Indian, Andhra, Chinese         800   \n",
       "823    North Indian, South Indian, Andhra, Chinese         800   \n",
       "1189   North Indian, South Indian, Andhra, Chinese         600   \n",
       "10905  North Indian, South Indian, Andhra, Chinese       1,000   \n",
       "11511  North Indian, South Indian, Andhra, Chinese       1,000   \n",
       "23460  North Indian, South Indian, Andhra, Chinese       1,000   \n",
       "\n",
       "                                            reviews_list listed_in(type)  \\\n",
       "6      [('Rated 5.0', 'RATED\\n  Awesome food ??Great ...          Buffet   \n",
       "239    [('Rated 5.0', 'RATED\\n  Awesome food ??Great ...        Delivery   \n",
       "823    [('Rated 5.0', 'RATED\\n  Awesome food ??Great ...        Dine-out   \n",
       "1189   [('Rated 5.0', 'RATED\\n  The food was very goo...        Delivery   \n",
       "10905  [('Rated 4.0', 'RATED\\n  Last Friday, I went o...        Dine-out   \n",
       "11511  [('Rated 4.0', 'RATED\\n  Last Friday, I went o...   Pubs and bars   \n",
       "23460  [('Rated 4.0', 'RATED\\n  Last Friday, I went o...        Dine-out   \n",
       "\n",
       "         listed_in(city)  \n",
       "6           Banashankari  \n",
       "239         Banashankari  \n",
       "823         Banashankari  \n",
       "1189   Bannerghatta Road  \n",
       "10905                BTM  \n",
       "11511                BTM  \n",
       "23460           JP Nagar  "
      ]
     },
     "execution_count": 28,
     "metadata": {},
     "output_type": "execute_result"
    }
   ],
   "source": [
    "df[df[\"cuisines\"]==\"North Indian, South Indian, Andhra, Chinese\"].head(10)"
   ]
  },
  {
   "cell_type": "code",
   "execution_count": 29,
   "id": "dff95ad3-9b57-4d56-b0a8-49ccf8ffe120",
   "metadata": {},
   "outputs": [
    {
     "data": {
      "text/plain": [
       "0"
      ]
     },
     "execution_count": 29,
     "metadata": {},
     "output_type": "execute_result"
    }
   ],
   "source": [
    "df.dish_liked.isna().sum()"
   ]
  },
  {
   "cell_type": "code",
   "execution_count": 30,
   "id": "c22aebab-0fa1-41e7-97d9-2c65d02cadc0",
   "metadata": {},
   "outputs": [
    {
     "data": {
      "text/plain": [
       "cuisines\n",
       "North Indian                                   2913\n",
       "North Indian, Chinese                          2385\n",
       "South Indian                                   1828\n",
       "Biryani                                         918\n",
       "Bakery, Desserts                                911\n",
       "                                               ... \n",
       "North Indian, Chinese, South Indian, Juices       1\n",
       "North Indian, Chinese, Kebab, Mughlai             1\n",
       "Chinese, Vietnamese, Thai, Malaysian              1\n",
       "Arabian, Lebanese, Chinese, Rolls                 1\n",
       "North Indian, Chinese, Arabian, Momos             1\n",
       "Name: count, Length: 2723, dtype: int64"
      ]
     },
     "execution_count": 30,
     "metadata": {},
     "output_type": "execute_result"
    }
   ],
   "source": [
    "df.cuisines.value_counts()"
   ]
  },
  {
   "cell_type": "code",
   "execution_count": 31,
   "id": "9d118cc8-c8e5-4bce-8c20-efc17f21539b",
   "metadata": {},
   "outputs": [],
   "source": [
    "df[\"cuisines\"]=df[\"cuisines\"].fillna(df[\"cuisines\"].mode()[0])"
   ]
  },
  {
   "cell_type": "code",
   "execution_count": 32,
   "id": "c8e3321c-f878-45c3-ade6-8317285af5a7",
   "metadata": {},
   "outputs": [
    {
     "data": {
      "text/plain": [
       "0"
      ]
     },
     "execution_count": 32,
     "metadata": {},
     "output_type": "execute_result"
    }
   ],
   "source": [
    "df.cuisines.isna().sum()"
   ]
  },
  {
   "cell_type": "code",
   "execution_count": 33,
   "id": "ba6fbd27-d184-4b90-94b1-cbe906cd343d",
   "metadata": {},
   "outputs": [
    {
     "data": {
      "text/plain": [
       "Cost2plates\n",
       "300      7576\n",
       "400      6562\n",
       "500      4980\n",
       "200      4857\n",
       "600      3714\n",
       "         ... \n",
       "60          1\n",
       "5,000       1\n",
       "3,700       1\n",
       "469         1\n",
       "160         1\n",
       "Name: count, Length: 70, dtype: int64"
      ]
     },
     "execution_count": 33,
     "metadata": {},
     "output_type": "execute_result"
    }
   ],
   "source": [
    "df.Cost2plates.value_counts()"
   ]
  },
  {
   "cell_type": "code",
   "execution_count": 34,
   "id": "abd78eae-590e-4ee7-a4e0-17e169246d9f",
   "metadata": {},
   "outputs": [],
   "source": [
    "df[\"Cost2plates\"]=df[\"Cost2plates\"].str.replace(\",\",\"\")"
   ]
  },
  {
   "cell_type": "code",
   "execution_count": 35,
   "id": "a2b0902f-16c8-44fe-9163-2675066cf037",
   "metadata": {},
   "outputs": [
    {
     "data": {
      "text/plain": [
       "array(['800', '300', '600', '700', '550', '500', '450', '650', '400',\n",
       "       '900', '200', '750', '150', '850', '100', '1200', '350', '250',\n",
       "       '950', '1000', '1500', '1300', '199', '80', '1100', '160', '1600',\n",
       "       '230', '130', '50', '190', '1700', nan, '1400', '180', '1350',\n",
       "       '2200', '2000', '1800', '1900', '330', '2500', '2100', '3000',\n",
       "       '2800', '3400', '40', '1250', '3500', '4000', '2400', '2600',\n",
       "       '120', '1450', '469', '70', '3200', '60', '560', '240', '360',\n",
       "       '6000', '1050', '2300', '4100', '5000', '3700', '1650', '2700',\n",
       "       '4500', '140'], dtype=object)"
      ]
     },
     "execution_count": 35,
     "metadata": {},
     "output_type": "execute_result"
    }
   ],
   "source": [
    "df.Cost2plates.unique()"
   ]
  },
  {
   "cell_type": "code",
   "execution_count": 36,
   "id": "fe96a7b4-c677-4853-ba55-0aaaef583ea8",
   "metadata": {},
   "outputs": [],
   "source": [
    "df[\"Cost2plates\"]=df[\"Cost2plates\"].fillna(df[\"Cost2plates\"].median()).astype(\"int\")"
   ]
  },
  {
   "cell_type": "code",
   "execution_count": 37,
   "id": "87d5ec63-2da4-42e3-977e-11243ff0bdde",
   "metadata": {},
   "outputs": [
    {
     "data": {
      "text/plain": [
       "0"
      ]
     },
     "execution_count": 37,
     "metadata": {},
     "output_type": "execute_result"
    }
   ],
   "source": [
    "df.Cost2plates.isna().sum()"
   ]
  },
  {
   "cell_type": "code",
   "execution_count": 38,
   "id": "a22b05a7-73ad-48a8-9af0-8592ed77b76d",
   "metadata": {},
   "outputs": [
    {
     "data": {
      "text/plain": [
       "rest_type\n",
       "Quick Bites                   19132\n",
       "Casual Dining                 10330\n",
       "Cafe                           3732\n",
       "Delivery                       2604\n",
       "Dessert Parlor                 2263\n",
       "                              ...  \n",
       "Dessert Parlor, Kiosk             2\n",
       "Food Court, Beverage Shop         2\n",
       "Dessert Parlor, Food Court        2\n",
       "Sweet Shop, Dessert Parlor        1\n",
       "Quick Bites, Kiosk                1\n",
       "Name: count, Length: 93, dtype: int64"
      ]
     },
     "execution_count": 38,
     "metadata": {},
     "output_type": "execute_result"
    }
   ],
   "source": [
    "df.rest_type.value_counts()"
   ]
  },
  {
   "cell_type": "code",
   "execution_count": 39,
   "id": "e8ebd50d-cf4b-4abf-9cbc-6d5eb04b8c6f",
   "metadata": {},
   "outputs": [],
   "source": [
    "df[\"rest_type\"]=df[\"rest_type\"].fillna(df[\"rest_type\"].mode()[0])"
   ]
  },
  {
   "cell_type": "code",
   "execution_count": 40,
   "id": "0bb96ce7-3b0f-4ae1-994f-0eda74722e31",
   "metadata": {},
   "outputs": [
    {
     "data": {
      "text/plain": [
       "0"
      ]
     },
     "execution_count": 40,
     "metadata": {},
     "output_type": "execute_result"
    }
   ],
   "source": [
    "df.rest_type.isna().sum()"
   ]
  },
  {
   "cell_type": "code",
   "execution_count": 41,
   "id": "260ce982-3c0e-4033-8f5b-0afcf604b002",
   "metadata": {},
   "outputs": [
    {
     "data": {
      "text/plain": [
       "<Axes: xlabel='location'>"
      ]
     },
     "execution_count": 41,
     "metadata": {},
     "output_type": "execute_result"
    },
    {
     "data": {
      "image/png": "[encoded data removed]",
      "text/plain": [
       "<Figure size 2000x800 with 1 Axes>"
      ]
     },
     "metadata": {},
     "output_type": "display_data"
    }
   ],
   "source": [
    "plt.figure(figsize=(20,8))\n",
    "df.location.value_counts().plot(kind=\"bar\")"
   ]
  },
  {
   "cell_type": "code",
   "execution_count": 42,
   "id": "d14c1619-df58-40cf-b674-253fb58bf579",
   "metadata": {},
   "outputs": [],
   "source": [
    "df[\"location\"]=df[\"location\"].fillna(df[\"location\"].mode()[0])"
   ]
  },
  {
   "cell_type": "code",
   "execution_count": 43,
   "id": "3e8ae5bc-98f2-4442-aff9-07d94c3215f0",
   "metadata": {},
   "outputs": [
    {
     "data": {
      "text/plain": [
       "0"
      ]
     },
     "execution_count": 43,
     "metadata": {},
     "output_type": "execute_result"
    }
   ],
   "source": [
    "df.location.isna().sum()"
   ]
  },
  {
   "cell_type": "code",
   "execution_count": 44,
   "id": "608bd040-c504-475d-83a6-241bcd6cf3d8",
   "metadata": {},
   "outputs": [
    {
     "data": {
      "text/plain": [
       "name               0\n",
       "online_order       0\n",
       "book_table         0\n",
       "rate               0\n",
       "votes              0\n",
       "location           0\n",
       "rest_type          0\n",
       "dish_liked         0\n",
       "cuisines           0\n",
       "Cost2plates        0\n",
       "reviews_list       0\n",
       "listed_in(type)    0\n",
       "listed_in(city)    0\n",
       "dtype: int64"
      ]
     },
     "execution_count": 44,
     "metadata": {},
     "output_type": "execute_result"
    }
   ],
   "source": [
    "df.isna().sum()"
   ]
  },
  {
   "cell_type": "code",
   "execution_count": 45,
   "id": "b1b91ead-747d-45ae-ab4c-e21f150b0a21",
   "metadata": {},
   "outputs": [
    {
     "data": {
      "text/plain": [
       "72"
      ]
     },
     "execution_count": 45,
     "metadata": {},
     "output_type": "execute_result"
    }
   ],
   "source": [
    "df.duplicated().sum()"
   ]
  },
  {
   "cell_type": "code",
   "execution_count": 46,
   "id": "9ba1f0f4-5cfc-441d-b86e-16c0b34a85d5",
   "metadata": {},
   "outputs": [
    {
     "data": {
      "text/html": [
       "<div>\n",
       "<style scoped>\n",
       "    .dataframe tbody tr th:only-of-type {\n",
       "        vertical-align: middle;\n",
       "    }\n",
       "\n",
       "    .dataframe tbody tr th {\n",
       "        vertical-align: top;\n",
       "    }\n",
       "\n",
       "    .dataframe thead th {\n",
       "        text-align: right;\n",
       "    }\n",
       "</style>\n",
       "<table border=\"1\" class=\"dataframe\">\n",
       "  <thead>\n",
       "    <tr style=\"text-align: right;\">\n",
       "      <th></th>\n",
       "      <th>name</th>\n",
       "      <th>online_order</th>\n",
       "      <th>book_table</th>\n",
       "      <th>rate</th>\n",
       "      <th>votes</th>\n",
       "      <th>location</th>\n",
       "      <th>rest_type</th>\n",
       "      <th>dish_liked</th>\n",
       "      <th>cuisines</th>\n",
       "      <th>Cost2plates</th>\n",
       "      <th>reviews_list</th>\n",
       "      <th>listed_in(type)</th>\n",
       "      <th>listed_in(city)</th>\n",
       "    </tr>\n",
       "  </thead>\n",
       "  <tbody>\n",
       "    <tr>\n",
       "      <th>0</th>\n",
       "      <td>Jalsa</td>\n",
       "      <td>Yes</td>\n",
       "      <td>Yes</td>\n",
       "      <td>4.1</td>\n",
       "      <td>775</td>\n",
       "      <td>Banashankari</td>\n",
       "      <td>Casual Dining</td>\n",
       "      <td>Cocktails, Butter Chicken, Beer, Biryani, Tand...</td>\n",
       "      <td>North Indian, Mughlai, Chinese</td>\n",
       "      <td>800</td>\n",
       "      <td>[('Rated 4.0', 'RATED\\n  A beautiful place to ...</td>\n",
       "      <td>Buffet</td>\n",
       "      <td>Banashankari</td>\n",
       "    </tr>\n",
       "    <tr>\n",
       "      <th>1</th>\n",
       "      <td>Spice Elephant</td>\n",
       "      <td>Yes</td>\n",
       "      <td>No</td>\n",
       "      <td>4.1</td>\n",
       "      <td>787</td>\n",
       "      <td>Banashankari</td>\n",
       "      <td>Casual Dining</td>\n",
       "      <td>Cocktails, Butter Chicken, Beer, Biryani, Tand...</td>\n",
       "      <td>Chinese, North Indian, Thai</td>\n",
       "      <td>800</td>\n",
       "      <td>[('Rated 4.0', 'RATED\\n  Had been here for din...</td>\n",
       "      <td>Buffet</td>\n",
       "      <td>Banashankari</td>\n",
       "    </tr>\n",
       "    <tr>\n",
       "      <th>2</th>\n",
       "      <td>San Churro Cafe</td>\n",
       "      <td>Yes</td>\n",
       "      <td>No</td>\n",
       "      <td>3.8</td>\n",
       "      <td>918</td>\n",
       "      <td>Banashankari</td>\n",
       "      <td>Cafe, Casual Dining</td>\n",
       "      <td>Cocktails, Butter Chicken, Beer, Biryani, Tand...</td>\n",
       "      <td>Cafe, Mexican, Italian</td>\n",
       "      <td>800</td>\n",
       "      <td>[('Rated 3.0', \"RATED\\n  Ambience is not that ...</td>\n",
       "      <td>Buffet</td>\n",
       "      <td>Banashankari</td>\n",
       "    </tr>\n",
       "    <tr>\n",
       "      <th>3</th>\n",
       "      <td>Addhuri Udupi Bhojana</td>\n",
       "      <td>No</td>\n",
       "      <td>No</td>\n",
       "      <td>3.7</td>\n",
       "      <td>88</td>\n",
       "      <td>Banashankari</td>\n",
       "      <td>Quick Bites</td>\n",
       "      <td>Cocktails, Butter Chicken, Beer, Biryani, Tand...</td>\n",
       "      <td>South Indian, North Indian</td>\n",
       "      <td>300</td>\n",
       "      <td>[('Rated 4.0', \"RATED\\n  Great food and proper...</td>\n",
       "      <td>Buffet</td>\n",
       "      <td>Banashankari</td>\n",
       "    </tr>\n",
       "    <tr>\n",
       "      <th>4</th>\n",
       "      <td>Grand Village</td>\n",
       "      <td>No</td>\n",
       "      <td>No</td>\n",
       "      <td>3.8</td>\n",
       "      <td>166</td>\n",
       "      <td>Basavanagudi</td>\n",
       "      <td>Casual Dining</td>\n",
       "      <td>Cocktails, Butter Chicken, Beer, Biryani, Tand...</td>\n",
       "      <td>North Indian, Rajasthani</td>\n",
       "      <td>600</td>\n",
       "      <td>[('Rated 4.0', 'RATED\\n  Very good restaurant ...</td>\n",
       "      <td>Buffet</td>\n",
       "      <td>Banashankari</td>\n",
       "    </tr>\n",
       "    <tr>\n",
       "      <th>...</th>\n",
       "      <td>...</td>\n",
       "      <td>...</td>\n",
       "      <td>...</td>\n",
       "      <td>...</td>\n",
       "      <td>...</td>\n",
       "      <td>...</td>\n",
       "      <td>...</td>\n",
       "      <td>...</td>\n",
       "      <td>...</td>\n",
       "      <td>...</td>\n",
       "      <td>...</td>\n",
       "      <td>...</td>\n",
       "      <td>...</td>\n",
       "    </tr>\n",
       "    <tr>\n",
       "      <th>51712</th>\n",
       "      <td>Best Brews - Four Points by Sheraton Bengaluru...</td>\n",
       "      <td>No</td>\n",
       "      <td>No</td>\n",
       "      <td>3.6</td>\n",
       "      <td>27</td>\n",
       "      <td>Whitefield</td>\n",
       "      <td>Bar</td>\n",
       "      <td>Cocktails, Butter Chicken, Beer, Biryani, Tand...</td>\n",
       "      <td>Continental</td>\n",
       "      <td>1500</td>\n",
       "      <td>[('Rated 5.0', \"RATED\\n  Food and service are ...</td>\n",
       "      <td>Pubs and bars</td>\n",
       "      <td>Whitefield</td>\n",
       "    </tr>\n",
       "    <tr>\n",
       "      <th>51713</th>\n",
       "      <td>Vinod Bar And Restaurant</td>\n",
       "      <td>No</td>\n",
       "      <td>No</td>\n",
       "      <td>3.7</td>\n",
       "      <td>0</td>\n",
       "      <td>Whitefield</td>\n",
       "      <td>Bar</td>\n",
       "      <td>Cocktails, Butter Chicken, Beer, Biryani, Tand...</td>\n",
       "      <td>Finger Food</td>\n",
       "      <td>600</td>\n",
       "      <td>[]</td>\n",
       "      <td>Pubs and bars</td>\n",
       "      <td>Whitefield</td>\n",
       "    </tr>\n",
       "    <tr>\n",
       "      <th>51714</th>\n",
       "      <td>Plunge - Sheraton Grand Bengaluru Whitefield H...</td>\n",
       "      <td>No</td>\n",
       "      <td>No</td>\n",
       "      <td>3.7</td>\n",
       "      <td>0</td>\n",
       "      <td>Whitefield</td>\n",
       "      <td>Bar</td>\n",
       "      <td>Cocktails, Butter Chicken, Beer, Biryani, Tand...</td>\n",
       "      <td>Finger Food</td>\n",
       "      <td>2000</td>\n",
       "      <td>[]</td>\n",
       "      <td>Pubs and bars</td>\n",
       "      <td>Whitefield</td>\n",
       "    </tr>\n",
       "    <tr>\n",
       "      <th>51715</th>\n",
       "      <td>Chime - Sheraton Grand Bengaluru Whitefield Ho...</td>\n",
       "      <td>No</td>\n",
       "      <td>Yes</td>\n",
       "      <td>4.3</td>\n",
       "      <td>236</td>\n",
       "      <td>ITPL Main Road, Whitefield</td>\n",
       "      <td>Bar</td>\n",
       "      <td>Cocktails, Butter Chicken, Beer, Biryani, Tand...</td>\n",
       "      <td>Finger Food</td>\n",
       "      <td>2500</td>\n",
       "      <td>[('Rated 4.0', 'RATED\\n  Nice and friendly pla...</td>\n",
       "      <td>Pubs and bars</td>\n",
       "      <td>Whitefield</td>\n",
       "    </tr>\n",
       "    <tr>\n",
       "      <th>51716</th>\n",
       "      <td>The Nest - The Den Bengaluru</td>\n",
       "      <td>No</td>\n",
       "      <td>No</td>\n",
       "      <td>3.4</td>\n",
       "      <td>13</td>\n",
       "      <td>ITPL Main Road, Whitefield</td>\n",
       "      <td>Bar, Casual Dining</td>\n",
       "      <td>Cocktails, Butter Chicken, Beer, Biryani, Tand...</td>\n",
       "      <td>Finger Food, North Indian, Continental</td>\n",
       "      <td>1500</td>\n",
       "      <td>[('Rated 5.0', 'RATED\\n  Great ambience , look...</td>\n",
       "      <td>Pubs and bars</td>\n",
       "      <td>Whitefield</td>\n",
       "    </tr>\n",
       "  </tbody>\n",
       "</table>\n",
       "<p>51645 rows × 13 columns</p>\n",
       "</div>"
      ],
      "text/plain": [
       "                                                    name online_order  \\\n",
       "0                                                  Jalsa          Yes   \n",
       "1                                         Spice Elephant          Yes   \n",
       "2                                        San Churro Cafe          Yes   \n",
       "3                                  Addhuri Udupi Bhojana           No   \n",
       "4                                          Grand Village           No   \n",
       "...                                                  ...          ...   \n",
       "51712  Best Brews - Four Points by Sheraton Bengaluru...           No   \n",
       "51713                           Vinod Bar And Restaurant           No   \n",
       "51714  Plunge - Sheraton Grand Bengaluru Whitefield H...           No   \n",
       "51715  Chime - Sheraton Grand Bengaluru Whitefield Ho...           No   \n",
       "51716                       The Nest - The Den Bengaluru           No   \n",
       "\n",
       "      book_table  rate  votes                    location  \\\n",
       "0            Yes   4.1    775                Banashankari   \n",
       "1             No   4.1    787                Banashankari   \n",
       "2             No   3.8    918                Banashankari   \n",
       "3             No   3.7     88                Banashankari   \n",
       "4             No   3.8    166                Basavanagudi   \n",
       "...          ...   ...    ...                         ...   \n",
       "51712         No   3.6     27                  Whitefield   \n",
       "51713         No   3.7      0                  Whitefield   \n",
       "51714         No   3.7      0                  Whitefield   \n",
       "51715        Yes   4.3    236  ITPL Main Road, Whitefield   \n",
       "51716         No   3.4     13  ITPL Main Road, Whitefield   \n",
       "\n",
       "                 rest_type                                         dish_liked  \\\n",
       "0            Casual Dining  Cocktails, Butter Chicken, Beer, Biryani, Tand...   \n",
       "1            Casual Dining  Cocktails, Butter Chicken, Beer, Biryani, Tand...   \n",
       "2      Cafe, Casual Dining  Cocktails, Butter Chicken, Beer, Biryani, Tand...   \n",
       "3              Quick Bites  Cocktails, Butter Chicken, Beer, Biryani, Tand...   \n",
       "4            Casual Dining  Cocktails, Butter Chicken, Beer, Biryani, Tand...   \n",
       "...                    ...                                                ...   \n",
       "51712                  Bar  Cocktails, Butter Chicken, Beer, Biryani, Tand...   \n",
       "51713                  Bar  Cocktails, Butter Chicken, Beer, Biryani, Tand...   \n",
       "51714                  Bar  Cocktails, Butter Chicken, Beer, Biryani, Tand...   \n",
       "51715                  Bar  Cocktails, Butter Chicken, Beer, Biryani, Tand...   \n",
       "51716   Bar, Casual Dining  Cocktails, Butter Chicken, Beer, Biryani, Tand...   \n",
       "\n",
       "                                     cuisines  Cost2plates  \\\n",
       "0              North Indian, Mughlai, Chinese          800   \n",
       "1                 Chinese, North Indian, Thai          800   \n",
       "2                      Cafe, Mexican, Italian          800   \n",
       "3                  South Indian, North Indian          300   \n",
       "4                    North Indian, Rajasthani          600   \n",
       "...                                       ...          ...   \n",
       "51712                             Continental         1500   \n",
       "51713                             Finger Food          600   \n",
       "51714                             Finger Food         2000   \n",
       "51715                             Finger Food         2500   \n",
       "51716  Finger Food, North Indian, Continental         1500   \n",
       "\n",
       "                                            reviews_list listed_in(type)  \\\n",
       "0      [('Rated 4.0', 'RATED\\n  A beautiful place to ...          Buffet   \n",
       "1      [('Rated 4.0', 'RATED\\n  Had been here for din...          Buffet   \n",
       "2      [('Rated 3.0', \"RATED\\n  Ambience is not that ...          Buffet   \n",
       "3      [('Rated 4.0', \"RATED\\n  Great food and proper...          Buffet   \n",
       "4      [('Rated 4.0', 'RATED\\n  Very good restaurant ...          Buffet   \n",
       "...                                                  ...             ...   \n",
       "51712  [('Rated 5.0', \"RATED\\n  Food and service are ...   Pubs and bars   \n",
       "51713                                                 []   Pubs and bars   \n",
       "51714                                                 []   Pubs and bars   \n",
       "51715  [('Rated 4.0', 'RATED\\n  Nice and friendly pla...   Pubs and bars   \n",
       "51716  [('Rated 5.0', 'RATED\\n  Great ambience , look...   Pubs and bars   \n",
       "\n",
       "      listed_in(city)  \n",
       "0        Banashankari  \n",
       "1        Banashankari  \n",
       "2        Banashankari  \n",
       "3        Banashankari  \n",
       "4        Banashankari  \n",
       "...               ...  \n",
       "51712      Whitefield  \n",
       "51713      Whitefield  \n",
       "51714      Whitefield  \n",
       "51715      Whitefield  \n",
       "51716      Whitefield  \n",
       "\n",
       "[51645 rows x 13 columns]"
      ]
     },
     "execution_count": 46,
     "metadata": {},
     "output_type": "execute_result"
    }
   ],
   "source": [
    "df.drop_duplicates()"
   ]
  },
  {
   "cell_type": "code",
   "execution_count": 47,
   "id": "ad06e2d6-39a6-4238-8942-5a885351af74",
   "metadata": {},
   "outputs": [
    {
     "data": {
      "text/plain": [
       "8792"
      ]
     },
     "execution_count": 47,
     "metadata": {},
     "output_type": "execute_result"
    }
   ],
   "source": [
    "df.name.nunique()"
   ]
  },
  {
   "cell_type": "code",
   "execution_count": 48,
   "id": "c13f40c5-d233-4ad1-ba9f-3ad5f2056f0d",
   "metadata": {},
   "outputs": [
    {
     "data": {
      "text/plain": [
       "(51717, 13)"
      ]
     },
     "execution_count": 48,
     "metadata": {},
     "output_type": "execute_result"
    }
   ],
   "source": [
    "df.shape"
   ]
  },
  {
   "cell_type": "code",
   "execution_count": 49,
   "id": "595238b5-6e83-4b5f-ba3b-ef9c898d8331",
   "metadata": {},
   "outputs": [
    {
     "data": {
      "text/plain": [
       "Index(['name', 'online_order', 'book_table', 'rate', 'votes', 'location',\n",
       "       'rest_type', 'dish_liked', 'cuisines', 'Cost2plates', 'reviews_list',\n",
       "       'listed_in(type)', 'listed_in(city)'],\n",
       "      dtype='object')"
      ]
     },
     "execution_count": 49,
     "metadata": {},
     "output_type": "execute_result"
    }
   ],
   "source": [
    "df.columns"
   ]
  },
  {
   "cell_type": "code",
   "execution_count": 50,
   "id": "63c84c56-49ec-4723-b39b-7fbbed8f8070",
   "metadata": {},
   "outputs": [
    {
     "data": {
      "text/plain": [
       "name                object\n",
       "online_order        object\n",
       "book_table          object\n",
       "rate               float64\n",
       "votes                int64\n",
       "location            object\n",
       "rest_type           object\n",
       "dish_liked          object\n",
       "cuisines            object\n",
       "Cost2plates          int32\n",
       "reviews_list        object\n",
       "listed_in(type)     object\n",
       "listed_in(city)     object\n",
       "dtype: object"
      ]
     },
     "execution_count": 50,
     "metadata": {},
     "output_type": "execute_result"
    }
   ],
   "source": [
    "df.dtypes"
   ]
  },
  {
   "cell_type": "markdown",
   "id": "b3b8c224-1d47-4db3-9e96-d6477e0a4f86",
   "metadata": {},
   "source": [
    "# Checking outliers for numerical columns and removing it."
   ]
  },
  {
   "cell_type": "markdown",
   "id": "e7f55ca8-d2dc-46a7-a035-8b332306aba2",
   "metadata": {},
   "source": [
    "# 1."
   ]
  },
  {
   "cell_type": "code",
   "execution_count": 51,
   "id": "aa133c7d-13ac-4c54-b0c3-20b6242dffa7",
   "metadata": {},
   "outputs": [
    {
     "data": {
      "text/plain": [
       "<function matplotlib.pyplot.show(close=None, block=None)>"
      ]
     },
     "execution_count": 51,
     "metadata": {},
     "output_type": "execute_result"
    },
    {
     "data": {
      "image/png": "[encoded data removed]",
      "text/plain": [
       "<Figure size 640x480 with 1 Axes>"
      ]
     },
     "metadata": {},
     "output_type": "display_data"
    }
   ],
   "source": [
    "sns.boxplot(df.votes)\n",
    "plt.show"
   ]
  },
  {
   "cell_type": "code",
   "execution_count": 52,
   "id": "32004e66-aa42-4ba2-b289-fae77d924017",
   "metadata": {},
   "outputs": [],
   "source": [
    "q1=df[\"votes\"].quantile(0.25)\n",
    "q3=df[\"votes\"].quantile(0.75)\n",
    "IQR=q3-q1"
   ]
  },
  {
   "cell_type": "code",
   "execution_count": 53,
   "id": "b2d2814b-f3ec-44ea-8510-307374580d5e",
   "metadata": {},
   "outputs": [
    {
     "data": {
      "text/plain": [
       "(484.5, -279.5)"
      ]
     },
     "execution_count": 53,
     "metadata": {},
     "output_type": "execute_result"
    }
   ],
   "source": [
    "ul=q3+1.5*IQR\n",
    "ll=q1-1.5*IQR\n",
    "ul,ll"
   ]
  },
  {
   "cell_type": "code",
   "execution_count": 54,
   "id": "6dc4b4e6-7eb9-4f36-b532-b32e3d92da9d",
   "metadata": {},
   "outputs": [
    {
     "data": {
      "text/html": [
       "<div>\n",
       "<style scoped>\n",
       "    .dataframe tbody tr th:only-of-type {\n",
       "        vertical-align: middle;\n",
       "    }\n",
       "\n",
       "    .dataframe tbody tr th {\n",
       "        vertical-align: top;\n",
       "    }\n",
       "\n",
       "    .dataframe thead th {\n",
       "        text-align: right;\n",
       "    }\n",
       "</style>\n",
       "<table border=\"1\" class=\"dataframe\">\n",
       "  <thead>\n",
       "    <tr style=\"text-align: right;\">\n",
       "      <th></th>\n",
       "      <th>name</th>\n",
       "      <th>online_order</th>\n",
       "      <th>book_table</th>\n",
       "      <th>rate</th>\n",
       "      <th>votes</th>\n",
       "      <th>location</th>\n",
       "      <th>rest_type</th>\n",
       "      <th>dish_liked</th>\n",
       "      <th>cuisines</th>\n",
       "      <th>Cost2plates</th>\n",
       "      <th>reviews_list</th>\n",
       "      <th>listed_in(type)</th>\n",
       "      <th>listed_in(city)</th>\n",
       "    </tr>\n",
       "  </thead>\n",
       "  <tbody>\n",
       "    <tr>\n",
       "      <th>0</th>\n",
       "      <td>Jalsa</td>\n",
       "      <td>Yes</td>\n",
       "      <td>Yes</td>\n",
       "      <td>4.1</td>\n",
       "      <td>775</td>\n",
       "      <td>Banashankari</td>\n",
       "      <td>Casual Dining</td>\n",
       "      <td>Cocktails, Butter Chicken, Beer, Biryani, Tand...</td>\n",
       "      <td>North Indian, Mughlai, Chinese</td>\n",
       "      <td>800</td>\n",
       "      <td>[('Rated 4.0', 'RATED\\n  A beautiful place to ...</td>\n",
       "      <td>Buffet</td>\n",
       "      <td>Banashankari</td>\n",
       "    </tr>\n",
       "  </tbody>\n",
       "</table>\n",
       "</div>"
      ],
      "text/plain": [
       "    name online_order book_table  rate  votes      location      rest_type  \\\n",
       "0  Jalsa          Yes        Yes   4.1    775  Banashankari  Casual Dining   \n",
       "\n",
       "                                          dish_liked  \\\n",
       "0  Cocktails, Butter Chicken, Beer, Biryani, Tand...   \n",
       "\n",
       "                         cuisines  Cost2plates  \\\n",
       "0  North Indian, Mughlai, Chinese          800   \n",
       "\n",
       "                                        reviews_list listed_in(type)  \\\n",
       "0  [('Rated 4.0', 'RATED\\n  A beautiful place to ...          Buffet   \n",
       "\n",
       "  listed_in(city)  \n",
       "0    Banashankari  "
      ]
     },
     "execution_count": 54,
     "metadata": {},
     "output_type": "execute_result"
    }
   ],
   "source": [
    "df.loc[(df[\"votes\"]>ll) | (df[\"votes\"]<ul)].head(1)"
   ]
  },
  {
   "cell_type": "code",
   "execution_count": 55,
   "id": "5be9eb9e-fcfa-4708-aec6-5d8598e7e307",
   "metadata": {},
   "outputs": [
    {
     "name": "stdout",
     "output_type": "stream",
     "text": [
      "before removing outliers: 51717\n",
      "after removing outliers: 44756\n",
      "outliers: 6961\n"
     ]
    }
   ],
   "source": [
    "df1=df.loc[(df[\"votes\"] < ul) & (df[\"votes\"] > ll)]\n",
    "print(\"before removing outliers:\",len(df))\n",
    "print(\"after removing outliers:\",len(df1))\n",
    "print(\"outliers:\",len(df)-len(df1))"
   ]
  },
  {
   "cell_type": "code",
   "execution_count": 56,
   "id": "d9554f66-e438-425d-984d-e2aa03c57258",
   "metadata": {},
   "outputs": [],
   "source": [
    "df1=df.copy()\n",
    "df1.loc[(df1[\"votes\"]>ul), \"votes\"]=ul\n",
    "df1.loc[(df1[\"votes\"]<ll), \"votes\"]=ll"
   ]
  },
  {
   "cell_type": "code",
   "execution_count": 57,
   "id": "5ff56c53-87bd-4874-b214-52ff6d540eb2",
   "metadata": {},
   "outputs": [
    {
     "data": {
      "text/plain": [
       "<function matplotlib.pyplot.show(close=None, block=None)>"
      ]
     },
     "execution_count": 57,
     "metadata": {},
     "output_type": "execute_result"
    },
    {
     "data": {
      "image/png": "[encoded data removed]",
      "text/plain": [
       "<Figure size 640x480 with 1 Axes>"
      ]
     },
     "metadata": {},
     "output_type": "display_data"
    }
   ],
   "source": [
    "sns.boxplot(df1.votes)\n",
    "plt.show"
   ]
  },
  {
   "cell_type": "markdown",
   "id": "1838ee12-422b-4ca0-a1d0-b4827d59684e",
   "metadata": {},
   "source": [
    "# 2."
   ]
  },
  {
   "cell_type": "code",
   "execution_count": 58,
   "id": "3f576d22-7beb-4e38-9161-fcb23a051e82",
   "metadata": {},
   "outputs": [
    {
     "data": {
      "image/png": "[encoded data removed]",
      "text/plain": [
       "<Figure size 640x480 with 1 Axes>"
      ]
     },
     "metadata": {},
     "output_type": "display_data"
    }
   ],
   "source": [
    "sns.boxplot(df.Cost2plates)\n",
    "plt.show()"
   ]
  },
  {
   "cell_type": "code",
   "execution_count": 59,
   "id": "7486ae1d-5e8f-415c-8e4d-67cb7b9ff0f2",
   "metadata": {},
   "outputs": [],
   "source": [
    "q1=df[\"Cost2plates\"].quantile(0.25)\n",
    "q3=df[\"Cost2plates\"].quantile(0.75)\n",
    "IQR=q3-q1"
   ]
  },
  {
   "cell_type": "code",
   "execution_count": 60,
   "id": "37c0d431-fa80-4f82-8dee-c4d2622eb747",
   "metadata": {},
   "outputs": [
    {
     "data": {
      "text/plain": [
       "(1175.0, -225.0)"
      ]
     },
     "execution_count": 60,
     "metadata": {},
     "output_type": "execute_result"
    }
   ],
   "source": [
    "ul=q3+1.5*IQR\n",
    "ll=q1-1.5*IQR\n",
    "ul,ll"
   ]
  },
  {
   "cell_type": "code",
   "execution_count": 61,
   "id": "9be3f479-7420-4662-b7e5-ec5e7835fbba",
   "metadata": {},
   "outputs": [
    {
     "data": {
      "text/html": [
       "<div>\n",
       "<style scoped>\n",
       "    .dataframe tbody tr th:only-of-type {\n",
       "        vertical-align: middle;\n",
       "    }\n",
       "\n",
       "    .dataframe tbody tr th {\n",
       "        vertical-align: top;\n",
       "    }\n",
       "\n",
       "    .dataframe thead th {\n",
       "        text-align: right;\n",
       "    }\n",
       "</style>\n",
       "<table border=\"1\" class=\"dataframe\">\n",
       "  <thead>\n",
       "    <tr style=\"text-align: right;\">\n",
       "      <th></th>\n",
       "      <th>name</th>\n",
       "      <th>online_order</th>\n",
       "      <th>book_table</th>\n",
       "      <th>rate</th>\n",
       "      <th>votes</th>\n",
       "      <th>location</th>\n",
       "      <th>rest_type</th>\n",
       "      <th>dish_liked</th>\n",
       "      <th>cuisines</th>\n",
       "      <th>Cost2plates</th>\n",
       "      <th>reviews_list</th>\n",
       "      <th>listed_in(type)</th>\n",
       "      <th>listed_in(city)</th>\n",
       "    </tr>\n",
       "  </thead>\n",
       "  <tbody>\n",
       "    <tr>\n",
       "      <th>67</th>\n",
       "      <td>Gustoes Beer House</td>\n",
       "      <td>No</td>\n",
       "      <td>No</td>\n",
       "      <td>4.1</td>\n",
       "      <td>868</td>\n",
       "      <td>Banashankari</td>\n",
       "      <td>Pub</td>\n",
       "      <td>Cocktails, Butter Chicken, Beer, Biryani, Tand...</td>\n",
       "      <td>Continental, Italian, Mexican, North Indian, C...</td>\n",
       "      <td>1200</td>\n",
       "      <td>[('Rated 5.0', 'RATED\\n  Has a really calm roo...</td>\n",
       "      <td>Delivery</td>\n",
       "      <td>Banashankari</td>\n",
       "    </tr>\n",
       "    <tr>\n",
       "      <th>166</th>\n",
       "      <td>Patio 805</td>\n",
       "      <td>Yes</td>\n",
       "      <td>Yes</td>\n",
       "      <td>4.1</td>\n",
       "      <td>364</td>\n",
       "      <td>Jayanagar</td>\n",
       "      <td>Casual Dining</td>\n",
       "      <td>Cocktails, Butter Chicken, Beer, Biryani, Tand...</td>\n",
       "      <td>Thai, Vietnamese, Asian, Chinese</td>\n",
       "      <td>1200</td>\n",
       "      <td>[('Rated 4.0', \"RATED\\n  The number of good re...</td>\n",
       "      <td>Delivery</td>\n",
       "      <td>Banashankari</td>\n",
       "    </tr>\n",
       "    <tr>\n",
       "      <th>207</th>\n",
       "      <td>Chutney Chang</td>\n",
       "      <td>Yes</td>\n",
       "      <td>Yes</td>\n",
       "      <td>4.1</td>\n",
       "      <td>2339</td>\n",
       "      <td>Jayanagar</td>\n",
       "      <td>Casual Dining</td>\n",
       "      <td>Cocktails, Butter Chicken, Beer, Biryani, Tand...</td>\n",
       "      <td>North Indian, Chinese, BBQ</td>\n",
       "      <td>1500</td>\n",
       "      <td>[('Rated 4.0', 'RATED\\n  Great place for team ...</td>\n",
       "      <td>Delivery</td>\n",
       "      <td>Banashankari</td>\n",
       "    </tr>\n",
       "  </tbody>\n",
       "</table>\n",
       "</div>"
      ],
      "text/plain": [
       "                   name online_order book_table  rate  votes      location  \\\n",
       "67   Gustoes Beer House           No         No   4.1    868  Banashankari   \n",
       "166           Patio 805          Yes        Yes   4.1    364     Jayanagar   \n",
       "207       Chutney Chang          Yes        Yes   4.1   2339     Jayanagar   \n",
       "\n",
       "         rest_type                                         dish_liked  \\\n",
       "67             Pub  Cocktails, Butter Chicken, Beer, Biryani, Tand...   \n",
       "166  Casual Dining  Cocktails, Butter Chicken, Beer, Biryani, Tand...   \n",
       "207  Casual Dining  Cocktails, Butter Chicken, Beer, Biryani, Tand...   \n",
       "\n",
       "                                              cuisines  Cost2plates  \\\n",
       "67   Continental, Italian, Mexican, North Indian, C...         1200   \n",
       "166                   Thai, Vietnamese, Asian, Chinese         1200   \n",
       "207                         North Indian, Chinese, BBQ         1500   \n",
       "\n",
       "                                          reviews_list listed_in(type)  \\\n",
       "67   [('Rated 5.0', 'RATED\\n  Has a really calm roo...        Delivery   \n",
       "166  [('Rated 4.0', \"RATED\\n  The number of good re...        Delivery   \n",
       "207  [('Rated 4.0', 'RATED\\n  Great place for team ...        Delivery   \n",
       "\n",
       "    listed_in(city)  \n",
       "67     Banashankari  \n",
       "166    Banashankari  \n",
       "207    Banashankari  "
      ]
     },
     "execution_count": 61,
     "metadata": {},
     "output_type": "execute_result"
    }
   ],
   "source": [
    "df.loc[(df[\"Cost2plates\"]>ul) | (df[\"Cost2plates\"]<ll)].head(3)"
   ]
  },
  {
   "cell_type": "code",
   "execution_count": 62,
   "id": "ce0eccc5-85b1-4dd0-ba3a-99232d688e1e",
   "metadata": {},
   "outputs": [
    {
     "name": "stdout",
     "output_type": "stream",
     "text": [
      "before removing outlier: 51717\n",
      "after removing outlier: 46953\n",
      "outliers: 4764\n"
     ]
    }
   ],
   "source": [
    "df1=df.loc[(df[\"Cost2plates\"]<ul) & (df[\"Cost2plates\"]>ll)]\n",
    "print(\"before removing outlier:\",len(df))\n",
    "print(\"after removing outlier:\",len(df1))\n",
    "print(\"outliers:\",len(df)-len(df1))"
   ]
  },
  {
   "cell_type": "code",
   "execution_count": 63,
   "id": "1bb62a02-e2e8-41cb-ac4d-a71aecb53e0c",
   "metadata": {},
   "outputs": [],
   "source": [
    "df1=df.copy()\n",
    "df1.loc[(df1[\"Cost2plates\"]>ul), \"Cost2plates\"]=ul\n",
    "df1.loc[(df1[\"Cost2plates\"]<ll), \"Cost2plates\"]=ll"
   ]
  },
  {
   "cell_type": "code",
   "execution_count": 64,
   "id": "5228bf51-1467-4ecb-919f-42a8b9a1402b",
   "metadata": {},
   "outputs": [
    {
     "data": {
      "image/png": "[encoded data removed]",
      "text/plain": [
       "<Figure size 640x480 with 1 Axes>"
      ]
     },
     "metadata": {},
     "output_type": "display_data"
    }
   ],
   "source": [
    "sns.boxplot(df1.Cost2plates)\n",
    "plt.show()"
   ]
  },
  {
   "cell_type": "markdown",
   "id": "efc3ad95-44cf-4a9a-993b-776f72f7c241",
   "metadata": {},
   "source": [
    "# 3."
   ]
  },
  {
   "cell_type": "code",
   "execution_count": 65,
   "id": "c5734214-d290-4e9d-8c18-0d99e0e3df61",
   "metadata": {},
   "outputs": [
    {
     "data": {
      "image/png": "[encoded data removed]",
      "text/plain": [
       "<Figure size 640x480 with 1 Axes>"
      ]
     },
     "metadata": {},
     "output_type": "display_data"
    }
   ],
   "source": [
    "sns.boxplot(df.rate)\n",
    "plt.show()"
   ]
  },
  {
   "cell_type": "code",
   "execution_count": 66,
   "id": "aae7ef60-17ba-4e7b-9102-30bf779bbc67",
   "metadata": {},
   "outputs": [],
   "source": [
    "q1=df[\"rate\"].quantile(0.25)\n",
    "q3=df[\"rate\"].quantile(0.75)\n",
    "IQR=q3-q1"
   ]
  },
  {
   "cell_type": "code",
   "execution_count": 67,
   "id": "9a4ae914-fdd0-4b9a-a86f-c1465578175e",
   "metadata": {},
   "outputs": [
    {
     "data": {
      "text/plain": [
       "(4.5, 2.9000000000000004)"
      ]
     },
     "execution_count": 67,
     "metadata": {},
     "output_type": "execute_result"
    }
   ],
   "source": [
    "ul=q3+1.5*IQR\n",
    "ll=q1-1.5*IQR\n",
    "ul,ll"
   ]
  },
  {
   "cell_type": "code",
   "execution_count": 68,
   "id": "54c1b4ee-2e8a-4dfc-860f-20d57e91f162",
   "metadata": {},
   "outputs": [
    {
     "data": {
      "text/html": [
       "<div>\n",
       "<style scoped>\n",
       "    .dataframe tbody tr th:only-of-type {\n",
       "        vertical-align: middle;\n",
       "    }\n",
       "\n",
       "    .dataframe tbody tr th {\n",
       "        vertical-align: top;\n",
       "    }\n",
       "\n",
       "    .dataframe thead th {\n",
       "        text-align: right;\n",
       "    }\n",
       "</style>\n",
       "<table border=\"1\" class=\"dataframe\">\n",
       "  <thead>\n",
       "    <tr style=\"text-align: right;\">\n",
       "      <th></th>\n",
       "      <th>name</th>\n",
       "      <th>online_order</th>\n",
       "      <th>book_table</th>\n",
       "      <th>rate</th>\n",
       "      <th>votes</th>\n",
       "      <th>location</th>\n",
       "      <th>rest_type</th>\n",
       "      <th>dish_liked</th>\n",
       "      <th>cuisines</th>\n",
       "      <th>Cost2plates</th>\n",
       "      <th>reviews_list</th>\n",
       "      <th>listed_in(type)</th>\n",
       "      <th>listed_in(city)</th>\n",
       "    </tr>\n",
       "  </thead>\n",
       "  <tbody>\n",
       "    <tr>\n",
       "      <th>7</th>\n",
       "      <td>Onesta</td>\n",
       "      <td>Yes</td>\n",
       "      <td>Yes</td>\n",
       "      <td>4.6</td>\n",
       "      <td>2556</td>\n",
       "      <td>Banashankari</td>\n",
       "      <td>Casual Dining, Cafe</td>\n",
       "      <td>Cocktails, Butter Chicken, Beer, Biryani, Tand...</td>\n",
       "      <td>Pizza, Cafe, Italian</td>\n",
       "      <td>600</td>\n",
       "      <td>[('Rated 5.0', 'RATED\\n  I personally really l...</td>\n",
       "      <td>Cafes</td>\n",
       "      <td>Banashankari</td>\n",
       "    </tr>\n",
       "    <tr>\n",
       "      <th>31</th>\n",
       "      <td>Foodiction</td>\n",
       "      <td>Yes</td>\n",
       "      <td>No</td>\n",
       "      <td>2.8</td>\n",
       "      <td>506</td>\n",
       "      <td>Banashankari</td>\n",
       "      <td>Quick Bites</td>\n",
       "      <td>Cocktails, Butter Chicken, Beer, Biryani, Tand...</td>\n",
       "      <td>North Indian, Fast Food, Chinese, Burger</td>\n",
       "      <td>500</td>\n",
       "      <td>[('Rated 1.0', \"RATED\\n  Worst restaurant ever...</td>\n",
       "      <td>Delivery</td>\n",
       "      <td>Banashankari</td>\n",
       "    </tr>\n",
       "    <tr>\n",
       "      <th>36</th>\n",
       "      <td>Fast And Fresh</td>\n",
       "      <td>Yes</td>\n",
       "      <td>No</td>\n",
       "      <td>2.8</td>\n",
       "      <td>91</td>\n",
       "      <td>Banashankari</td>\n",
       "      <td>Quick Bites</td>\n",
       "      <td>Cocktails, Butter Chicken, Beer, Biryani, Tand...</td>\n",
       "      <td>North Indian, Chinese, Fast Food</td>\n",
       "      <td>400</td>\n",
       "      <td>[('Rated 1.0', 'RATED\\n  Half baked rice in a ...</td>\n",
       "      <td>Delivery</td>\n",
       "      <td>Banashankari</td>\n",
       "    </tr>\n",
       "  </tbody>\n",
       "</table>\n",
       "</div>"
      ],
      "text/plain": [
       "              name online_order book_table  rate  votes      location  \\\n",
       "7           Onesta          Yes        Yes   4.6   2556  Banashankari   \n",
       "31      Foodiction          Yes         No   2.8    506  Banashankari   \n",
       "36  Fast And Fresh          Yes         No   2.8     91  Banashankari   \n",
       "\n",
       "              rest_type                                         dish_liked  \\\n",
       "7   Casual Dining, Cafe  Cocktails, Butter Chicken, Beer, Biryani, Tand...   \n",
       "31          Quick Bites  Cocktails, Butter Chicken, Beer, Biryani, Tand...   \n",
       "36          Quick Bites  Cocktails, Butter Chicken, Beer, Biryani, Tand...   \n",
       "\n",
       "                                    cuisines  Cost2plates  \\\n",
       "7                       Pizza, Cafe, Italian          600   \n",
       "31  North Indian, Fast Food, Chinese, Burger          500   \n",
       "36          North Indian, Chinese, Fast Food          400   \n",
       "\n",
       "                                         reviews_list listed_in(type)  \\\n",
       "7   [('Rated 5.0', 'RATED\\n  I personally really l...           Cafes   \n",
       "31  [('Rated 1.0', \"RATED\\n  Worst restaurant ever...        Delivery   \n",
       "36  [('Rated 1.0', 'RATED\\n  Half baked rice in a ...        Delivery   \n",
       "\n",
       "   listed_in(city)  \n",
       "7     Banashankari  \n",
       "31    Banashankari  \n",
       "36    Banashankari  "
      ]
     },
     "execution_count": 68,
     "metadata": {},
     "output_type": "execute_result"
    }
   ],
   "source": [
    "df.loc[(df[\"rate\"]>ul) | (df[\"rate\"]<ll)].head(3)"
   ]
  },
  {
   "cell_type": "code",
   "execution_count": 69,
   "id": "86285d8b-154c-46f3-bb08-6a900c95a7f2",
   "metadata": {},
   "outputs": [
    {
     "name": "stdout",
     "output_type": "stream",
     "text": [
      "before removing outlier: 51717\n",
      "after removing outlier: 48216\n",
      "outliers: 3501\n"
     ]
    }
   ],
   "source": [
    "df1=df.loc[(df[\"rate\"]<ul) & (df[\"rate\"]>ll)]\n",
    "print(\"before removing outlier:\",len(df))\n",
    "print(\"after removing outlier:\",len(df1))\n",
    "print(\"outliers:\",len(df)-len(df1))"
   ]
  },
  {
   "cell_type": "code",
   "execution_count": 70,
   "id": "9801c3ef-796d-4c09-b02c-c00ddb92051f",
   "metadata": {},
   "outputs": [],
   "source": [
    "df1=df.copy()\n",
    "df1.loc[(df1[\"rate\"]>ul), \"rate\"]=ul\n",
    "df1.loc[(df1[\"rate\"]<ll), \"rate\"]=ll"
   ]
  },
  {
   "cell_type": "code",
   "execution_count": 71,
   "id": "af4ea015-3711-4894-84d4-dba467130763",
   "metadata": {},
   "outputs": [
    {
     "data": {
      "image/png": "[encoded data removed]",
      "text/plain": [
       "<Figure size 640x480 with 1 Axes>"
      ]
     },
     "metadata": {},
     "output_type": "display_data"
    }
   ],
   "source": [
    "sns.boxplot(df1.rate)\n",
    "plt.show()"
   ]
  },
  {
   "cell_type": "code",
   "execution_count": 72,
   "id": "fef5b5e7-3c1d-4811-8f61-93cd8bdf49cc",
   "metadata": {},
   "outputs": [],
   "source": [
    "df1=df.to_csv(\"C:\\\\Users\\\\kmm23\\\\Downloads.csv\")"
   ]
  },
  {
   "cell_type": "markdown",
   "id": "56a07bd0-23f9-42fd-97f7-17b256f43fdc",
   "metadata": {},
   "source": [
    "# EDA visualization."
   ]
  },
  {
   "cell_type": "code",
   "execution_count": 73,
   "id": "ca2ef389-c6ad-486f-a9ef-7206a36b910a",
   "metadata": {},
   "outputs": [
    {
     "data": {
      "text/plain": [
       "Text(0, 0.5, 'book percentage')"
      ]
     },
     "execution_count": 73,
     "metadata": {},
     "output_type": "execute_result"
    },
    {
     "data": {
      "image/png": "[encoded data removed]",
      "text/plain": [
       "<Figure size 640x480 with 1 Axes>"
      ]
     },
     "metadata": {},
     "output_type": "display_data"
    }
   ],
   "source": [
    "colors = [ 'lightblue' , 'red']\n",
    "df['book_table'].value_counts().plot(kind='pie', autopct=\"%0.1f%%\", explode=[0, 0.2], shadow=True, colors =colors)\n",
    "\n",
    "plt.title('Restaurants allowing table booking or not')\n",
    "plt.ylabel('book percentage')"
   ]
  },
  {
   "cell_type": "code",
   "execution_count": 74,
   "id": "6848d271-d18c-46d2-9beb-07efb3ef52d3",
   "metadata": {},
   "outputs": [
    {
     "data": {
      "text/plain": [
       "<Axes: xlabel='online_order', ylabel='rate'>"
      ]
     },
     "execution_count": 74,
     "metadata": {},
     "output_type": "execute_result"
    },
    {
     "data": {
      "image/png": "[encoded data removed]",
      "text/plain": [
       "<Figure size 1800x800 with 1 Axes>"
      ]
     },
     "metadata": {},
     "output_type": "display_data"
    }
   ],
   "source": [
    "plt.figure(figsize=(18,8))\n",
    "plt.xticks(rotation=90)\n",
    "sns.barplot(x=\"online_order\",y=\"rate\",data=df)"
   ]
  },
  {
   "cell_type": "code",
   "execution_count": 75,
   "id": "1a56e498-76f3-4b8a-9dd5-9976fe5d6b72",
   "metadata": {},
   "outputs": [
    {
     "data": {
      "text/plain": [
       "<Axes: xlabel='listed_in(type)', ylabel='rate'>"
      ]
     },
     "execution_count": 75,
     "metadata": {},
     "output_type": "execute_result"
    },
    {
     "data": {
      "image/png": "[encoded data removed]",
      "text/plain": [
       "<Figure size 1200x400 with 1 Axes>"
      ]
     },
     "metadata": {},
     "output_type": "display_data"
    }
   ],
   "source": [
    "plt.figure(figsize=(12,4))\n",
    "sns.barplot(data=df,x='listed_in(type)',y='rate')"
   ]
  },
  {
   "cell_type": "code",
   "execution_count": 76,
   "id": "4610bf8f-05e6-46d6-8e07-022a4ce8d7b5",
   "metadata": {},
   "outputs": [
    {
     "data": {
      "text/plain": [
       "[]"
      ]
     },
     "execution_count": 76,
     "metadata": {},
     "output_type": "execute_result"
    },
    {
     "data": {
      "image/png": "[encoded data removed]",
      "text/plain": [
       "<Figure size 640x480 with 1 Axes>"
      ]
     },
     "metadata": {},
     "output_type": "display_data"
    }
   ],
   "source": [
    "sns.countplot(data=df,x='online_order').plot(kind=\"bar\")"
   ]
  },
  {
   "cell_type": "code",
   "execution_count": 77,
   "id": "e722bf78-937e-4dc0-b663-fd6633e962b0",
   "metadata": {},
   "outputs": [
    {
     "data": {
      "text/plain": [
       "[]"
      ]
     },
     "execution_count": 77,
     "metadata": {},
     "output_type": "execute_result"
    },
    {
     "data": {
      "image/png": "[encoded data removed]",
      "text/plain": [
       "<Figure size 640x480 with 1 Axes>"
      ]
     },
     "metadata": {},
     "output_type": "display_data"
    }
   ],
   "source": [
    "sns.countplot(data=df,x='book_table').plot(kind=\"bar\")"
   ]
  },
  {
   "cell_type": "code",
   "execution_count": 78,
   "id": "3f080577-0445-42f6-89cf-0a501d90ccfc",
   "metadata": {},
   "outputs": [
    {
     "data": {
      "text/plain": [
       "[]"
      ]
     },
     "execution_count": 78,
     "metadata": {},
     "output_type": "execute_result"
    },
    {
     "data": {
      "image/png": "[encoded data removed]",
      "text/plain": [
       "<Figure size 640x480 with 1 Axes>"
      ]
     },
     "metadata": {},
     "output_type": "display_data"
    }
   ],
   "source": [
    "sns.barplot(data=df, x='book_table', y='rate').plot(kind=\"bar\")"
   ]
  },
  {
   "cell_type": "code",
   "execution_count": 79,
   "id": "b113694c-b57c-4917-9d51-ff7cddfaa17a",
   "metadata": {},
   "outputs": [
    {
     "data": {
      "text/plain": [
       "(array([0, 1, 2, 3, 4, 5, 6, 7, 8, 9]),\n",
       " [Text(0, 0, 'BTM'),\n",
       "  Text(1, 0, 'HSR'),\n",
       "  Text(2, 0, 'Koramangala 5th Block'),\n",
       "  Text(3, 0, 'JP Nagar'),\n",
       "  Text(4, 0, 'Whitefield'),\n",
       "  Text(5, 0, 'Indiranagar'),\n",
       "  Text(6, 0, 'Jayanagar'),\n",
       "  Text(7, 0, 'Marathahalli'),\n",
       "  Text(8, 0, 'Bannerghatta Road'),\n",
       "  Text(9, 0, 'Bellandur')])"
      ]
     },
     "execution_count": 79,
     "metadata": {},
     "output_type": "execute_result"
    },
    {
     "data": {
      "image/png": "[encoded data removed]",
      "text/plain": [
       "<Figure size 1200x400 with 1 Axes>"
      ]
     },
     "metadata": {},
     "output_type": "display_data"
    }
   ],
   "source": [
    "plt.figure(figsize=(12,4))\n",
    "sns.countplot(x='location',data=df,order=df['location'].value_counts().index[:10])\n",
    "plt.xticks(rotation=35)"
   ]
  },
  {
   "cell_type": "markdown",
   "id": "80767ada-c0f6-4ba0-97fc-c4075c5ae2f2",
   "metadata": {},
   "source": [
    "# Encoding to transform the categorical data."
   ]
  },
  {
   "cell_type": "code",
   "execution_count": 80,
   "id": "bb7530a3-6d65-482c-82c8-ef32501f9b62",
   "metadata": {},
   "outputs": [],
   "source": [
    "from sklearn.preprocessing import LabelEncoder\n",
    "lb=LabelEncoder()\n"
   ]
  },
  {
   "cell_type": "code",
   "execution_count": 81,
   "id": "392d827f-62f4-425e-a7d7-c4e6765dde86",
   "metadata": {},
   "outputs": [
    {
     "data": {
      "text/html": [
       "<div>\n",
       "<style scoped>\n",
       "    .dataframe tbody tr th:only-of-type {\n",
       "        vertical-align: middle;\n",
       "    }\n",
       "\n",
       "    .dataframe tbody tr th {\n",
       "        vertical-align: top;\n",
       "    }\n",
       "\n",
       "    .dataframe thead th {\n",
       "        text-align: right;\n",
       "    }\n",
       "</style>\n",
       "<table border=\"1\" class=\"dataframe\">\n",
       "  <thead>\n",
       "    <tr style=\"text-align: right;\">\n",
       "      <th></th>\n",
       "      <th>name</th>\n",
       "      <th>online_order</th>\n",
       "      <th>book_table</th>\n",
       "      <th>rate</th>\n",
       "      <th>votes</th>\n",
       "      <th>location</th>\n",
       "      <th>rest_type</th>\n",
       "      <th>dish_liked</th>\n",
       "      <th>cuisines</th>\n",
       "      <th>Cost2plates</th>\n",
       "      <th>reviews_list</th>\n",
       "      <th>listed_in(type)</th>\n",
       "      <th>listed_in(city)</th>\n",
       "    </tr>\n",
       "  </thead>\n",
       "  <tbody>\n",
       "    <tr>\n",
       "      <th>0</th>\n",
       "      <td>Jalsa</td>\n",
       "      <td>Yes</td>\n",
       "      <td>Yes</td>\n",
       "      <td>4.1</td>\n",
       "      <td>775</td>\n",
       "      <td>Banashankari</td>\n",
       "      <td>Casual Dining</td>\n",
       "      <td>Cocktails, Butter Chicken, Beer, Biryani, Tand...</td>\n",
       "      <td>North Indian, Mughlai, Chinese</td>\n",
       "      <td>800</td>\n",
       "      <td>[('Rated 4.0', 'RATED\\n  A beautiful place to ...</td>\n",
       "      <td>Buffet</td>\n",
       "      <td>Banashankari</td>\n",
       "    </tr>\n",
       "  </tbody>\n",
       "</table>\n",
       "</div>"
      ],
      "text/plain": [
       "    name online_order book_table  rate  votes      location      rest_type  \\\n",
       "0  Jalsa          Yes        Yes   4.1    775  Banashankari  Casual Dining   \n",
       "\n",
       "                                          dish_liked  \\\n",
       "0  Cocktails, Butter Chicken, Beer, Biryani, Tand...   \n",
       "\n",
       "                         cuisines  Cost2plates  \\\n",
       "0  North Indian, Mughlai, Chinese          800   \n",
       "\n",
       "                                        reviews_list listed_in(type)  \\\n",
       "0  [('Rated 4.0', 'RATED\\n  A beautiful place to ...          Buffet   \n",
       "\n",
       "  listed_in(city)  \n",
       "0    Banashankari  "
      ]
     },
     "execution_count": 81,
     "metadata": {},
     "output_type": "execute_result"
    }
   ],
   "source": [
    "df.head(1)"
   ]
  },
  {
   "cell_type": "code",
   "execution_count": 82,
   "id": "eb31475f-b0af-478d-99d3-6f2f6d70bf19",
   "metadata": {},
   "outputs": [
    {
     "data": {
      "text/html": [
       "<div>\n",
       "<style scoped>\n",
       "    .dataframe tbody tr th:only-of-type {\n",
       "        vertical-align: middle;\n",
       "    }\n",
       "\n",
       "    .dataframe tbody tr th {\n",
       "        vertical-align: top;\n",
       "    }\n",
       "\n",
       "    .dataframe thead th {\n",
       "        text-align: right;\n",
       "    }\n",
       "</style>\n",
       "<table border=\"1\" class=\"dataframe\">\n",
       "  <thead>\n",
       "    <tr style=\"text-align: right;\">\n",
       "      <th></th>\n",
       "      <th>name</th>\n",
       "      <th>online_order</th>\n",
       "      <th>book_table</th>\n",
       "      <th>location</th>\n",
       "      <th>rest_type</th>\n",
       "      <th>dish_liked</th>\n",
       "      <th>cuisines</th>\n",
       "      <th>reviews_list</th>\n",
       "      <th>listed_in(type)</th>\n",
       "      <th>listed_in(city)</th>\n",
       "    </tr>\n",
       "  </thead>\n",
       "  <tbody>\n",
       "    <tr>\n",
       "      <th>0</th>\n",
       "      <td>Jalsa</td>\n",
       "      <td>Yes</td>\n",
       "      <td>Yes</td>\n",
       "      <td>Banashankari</td>\n",
       "      <td>Casual Dining</td>\n",
       "      <td>Cocktails, Butter Chicken, Beer, Biryani, Tand...</td>\n",
       "      <td>North Indian, Mughlai, Chinese</td>\n",
       "      <td>[('Rated 4.0', 'RATED\\n  A beautiful place to ...</td>\n",
       "      <td>Buffet</td>\n",
       "      <td>Banashankari</td>\n",
       "    </tr>\n",
       "  </tbody>\n",
       "</table>\n",
       "</div>"
      ],
      "text/plain": [
       "    name online_order book_table      location      rest_type  \\\n",
       "0  Jalsa          Yes        Yes  Banashankari  Casual Dining   \n",
       "\n",
       "                                          dish_liked  \\\n",
       "0  Cocktails, Butter Chicken, Beer, Biryani, Tand...   \n",
       "\n",
       "                         cuisines  \\\n",
       "0  North Indian, Mughlai, Chinese   \n",
       "\n",
       "                                        reviews_list listed_in(type)  \\\n",
       "0  [('Rated 4.0', 'RATED\\n  A beautiful place to ...          Buffet   \n",
       "\n",
       "  listed_in(city)  \n",
       "0    Banashankari  "
      ]
     },
     "execution_count": 82,
     "metadata": {},
     "output_type": "execute_result"
    }
   ],
   "source": [
    "df.select_dtypes(include=\"object\").head(1)"
   ]
  },
  {
   "cell_type": "code",
   "execution_count": 83,
   "id": "3a5479ae-23f4-4856-ae32-9d5243c9f6b7",
   "metadata": {},
   "outputs": [
    {
     "data": {
      "text/plain": [
       "online_order\n",
       "Yes    30444\n",
       "No     21273\n",
       "Name: count, dtype: int64"
      ]
     },
     "execution_count": 83,
     "metadata": {},
     "output_type": "execute_result"
    }
   ],
   "source": [
    "df.online_order.value_counts()"
   ]
  },
  {
   "cell_type": "code",
   "execution_count": 84,
   "id": "1540c3c4-a6fd-43b0-bd24-0db3c2f55816",
   "metadata": {},
   "outputs": [
    {
     "data": {
      "text/plain": [
       "book_table\n",
       "No     45268\n",
       "Yes     6449\n",
       "Name: count, dtype: int64"
      ]
     },
     "execution_count": 84,
     "metadata": {},
     "output_type": "execute_result"
    }
   ],
   "source": [
    "df.book_table.value_counts()"
   ]
  },
  {
   "cell_type": "code",
   "execution_count": 85,
   "id": "9d7b0243-bdb1-4fac-894b-64708c81cd69",
   "metadata": {},
   "outputs": [],
   "source": [
    "for i in df.select_dtypes(include=\"object\"):\n",
    "    df[i]=lb.fit_transform(df[i])"
   ]
  },
  {
   "cell_type": "code",
   "execution_count": 86,
   "id": "4ae97522-49d0-409c-a638-0e45ad9d95a3",
   "metadata": {},
   "outputs": [
    {
     "data": {
      "text/html": [
       "<div>\n",
       "<style scoped>\n",
       "    .dataframe tbody tr th:only-of-type {\n",
       "        vertical-align: middle;\n",
       "    }\n",
       "\n",
       "    .dataframe tbody tr th {\n",
       "        vertical-align: top;\n",
       "    }\n",
       "\n",
       "    .dataframe thead th {\n",
       "        text-align: right;\n",
       "    }\n",
       "</style>\n",
       "<table border=\"1\" class=\"dataframe\">\n",
       "  <thead>\n",
       "    <tr style=\"text-align: right;\">\n",
       "      <th></th>\n",
       "      <th>name</th>\n",
       "      <th>online_order</th>\n",
       "      <th>book_table</th>\n",
       "      <th>rate</th>\n",
       "      <th>votes</th>\n",
       "      <th>location</th>\n",
       "      <th>rest_type</th>\n",
       "      <th>dish_liked</th>\n",
       "      <th>cuisines</th>\n",
       "      <th>Cost2plates</th>\n",
       "      <th>reviews_list</th>\n",
       "      <th>listed_in(type)</th>\n",
       "      <th>listed_in(city)</th>\n",
       "    </tr>\n",
       "  </thead>\n",
       "  <tbody>\n",
       "    <tr>\n",
       "      <th>0</th>\n",
       "      <td>3690</td>\n",
       "      <td>1</td>\n",
       "      <td>1</td>\n",
       "      <td>4.1</td>\n",
       "      <td>775</td>\n",
       "      <td>1</td>\n",
       "      <td>27</td>\n",
       "      <td>0</td>\n",
       "      <td>2159</td>\n",
       "      <td>800</td>\n",
       "      <td>10851</td>\n",
       "      <td>0</td>\n",
       "      <td>1</td>\n",
       "    </tr>\n",
       "    <tr>\n",
       "      <th>1</th>\n",
       "      <td>7022</td>\n",
       "      <td>1</td>\n",
       "      <td>0</td>\n",
       "      <td>4.1</td>\n",
       "      <td>787</td>\n",
       "      <td>1</td>\n",
       "      <td>27</td>\n",
       "      <td>0</td>\n",
       "      <td>952</td>\n",
       "      <td>800</td>\n",
       "      <td>12530</td>\n",
       "      <td>0</td>\n",
       "      <td>1</td>\n",
       "    </tr>\n",
       "    <tr>\n",
       "      <th>2</th>\n",
       "      <td>6499</td>\n",
       "      <td>1</td>\n",
       "      <td>0</td>\n",
       "      <td>3.8</td>\n",
       "      <td>918</td>\n",
       "      <td>1</td>\n",
       "      <td>22</td>\n",
       "      <td>0</td>\n",
       "      <td>766</td>\n",
       "      <td>800</td>\n",
       "      <td>4652</td>\n",
       "      <td>0</td>\n",
       "      <td>1</td>\n",
       "    </tr>\n",
       "    <tr>\n",
       "      <th>3</th>\n",
       "      <td>199</td>\n",
       "      <td>0</td>\n",
       "      <td>0</td>\n",
       "      <td>3.7</td>\n",
       "      <td>88</td>\n",
       "      <td>1</td>\n",
       "      <td>78</td>\n",
       "      <td>0</td>\n",
       "      <td>2555</td>\n",
       "      <td>300</td>\n",
       "      <td>9293</td>\n",
       "      <td>0</td>\n",
       "      <td>1</td>\n",
       "    </tr>\n",
       "    <tr>\n",
       "      <th>4</th>\n",
       "      <td>2940</td>\n",
       "      <td>0</td>\n",
       "      <td>0</td>\n",
       "      <td>3.8</td>\n",
       "      <td>166</td>\n",
       "      <td>4</td>\n",
       "      <td>27</td>\n",
       "      <td>0</td>\n",
       "      <td>2188</td>\n",
       "      <td>600</td>\n",
       "      <td>15505</td>\n",
       "      <td>0</td>\n",
       "      <td>1</td>\n",
       "    </tr>\n",
       "  </tbody>\n",
       "</table>\n",
       "</div>"
      ],
      "text/plain": [
       "   name  online_order  book_table  rate  votes  location  rest_type  \\\n",
       "0  3690             1           1   4.1    775         1         27   \n",
       "1  7022             1           0   4.1    787         1         27   \n",
       "2  6499             1           0   3.8    918         1         22   \n",
       "3   199             0           0   3.7     88         1         78   \n",
       "4  2940             0           0   3.8    166         4         27   \n",
       "\n",
       "   dish_liked  cuisines  Cost2plates  reviews_list  listed_in(type)  \\\n",
       "0           0      2159          800         10851                0   \n",
       "1           0       952          800         12530                0   \n",
       "2           0       766          800          4652                0   \n",
       "3           0      2555          300          9293                0   \n",
       "4           0      2188          600         15505                0   \n",
       "\n",
       "   listed_in(city)  \n",
       "0                1  \n",
       "1                1  \n",
       "2                1  \n",
       "3                1  \n",
       "4                1  "
      ]
     },
     "execution_count": 86,
     "metadata": {},
     "output_type": "execute_result"
    }
   ],
   "source": [
    "df.head(5)"
   ]
  },
  {
   "cell_type": "markdown",
   "id": "cbca9af2-728e-4298-8d7f-cc4df8c6a6ba",
   "metadata": {},
   "source": [
    "# Splitting Data into x and y."
   ]
  },
  {
   "cell_type": "code",
   "execution_count": 87,
   "id": "cb395203-2576-4ee0-999b-6e82b2ede8d8",
   "metadata": {},
   "outputs": [],
   "source": [
    "y=df[\"rate\"]\n",
    "x=df.drop([\"rate\"],axis=1)"
   ]
  },
  {
   "cell_type": "code",
   "execution_count": 88,
   "id": "f3364081-8b5d-404d-80e2-040379c48965",
   "metadata": {},
   "outputs": [
    {
     "name": "stdout",
     "output_type": "stream",
     "text": [
      "Shape of y: (51717,)\n",
      "Shape of x: (51717, 12)\n"
     ]
    }
   ],
   "source": [
    "print(\"Shape of y:\",y.shape)\n",
    "print(\"Shape of x:\",x.shape)"
   ]
  },
  {
   "cell_type": "code",
   "execution_count": 89,
   "id": "e574312a-660a-488b-97cb-e9d3e994c8fc",
   "metadata": {},
   "outputs": [],
   "source": [
    "from sklearn.model_selection import train_test_split\n",
    "X_train,X_test,y_train,y_test=train_test_split(x,y,test_size=0.3,random_state=42)"
   ]
  },
  {
   "cell_type": "markdown",
   "id": "62f7c464-335c-4bbe-9128-0c1447047d9a",
   "metadata": {},
   "source": [
    "# check the correlation of y variable with every x(independent) variable."
   ]
  },
  {
   "cell_type": "code",
   "execution_count": 90,
   "id": "32ffdee5-3edd-40b3-995d-e9b42314d3a8",
   "metadata": {},
   "outputs": [],
   "source": [
    "corr=df.corrwith(df.rate).abs().sort_values(ascending=False)"
   ]
  },
  {
   "cell_type": "code",
   "execution_count": 91,
   "id": "46ba3433-fbfc-4ab0-a9be-2b3ed8ffcc28",
   "metadata": {},
   "outputs": [
    {
     "data": {
      "text/plain": [
       "rate               1.000000\n",
       "votes              0.427443\n",
       "book_table         0.413474\n",
       "Cost2plates        0.364812\n",
       "rest_type          0.200313\n",
       "reviews_list       0.199557\n",
       "location           0.078727\n",
       "cuisines           0.078077\n",
       "online_order       0.059579\n",
       "listed_in(type)    0.031567\n",
       "listed_in(city)    0.016127\n",
       "name               0.010903\n",
       "dish_liked         0.006669\n",
       "dtype: float64"
      ]
     },
     "execution_count": 91,
     "metadata": {},
     "output_type": "execute_result"
    }
   ],
   "source": [
    "corr"
   ]
  },
  {
   "cell_type": "code",
   "execution_count": null,
   "id": "0cac6052-8c78-4341-91a4-2c6df55116b2",
   "metadata": {},
   "outputs": [],
   "source": []
  },
  {
   "cell_type": "code",
   "execution_count": 92,
   "id": "a28f9f18-2451-4045-a573-fa9ebe84b87b",
   "metadata": {},
   "outputs": [],
   "source": [
    "from sklearn.linear_model import LinearRegression\n",
    "\n",
    "from sklearn.metrics import mean_squared_error,r2_score"
   ]
  },
  {
   "cell_type": "markdown",
   "id": "f53bd9e0-61d8-44c4-896e-c5005ac4f5e0",
   "metadata": {},
   "source": [
    "# linear Regression"
   ]
  },
  {
   "cell_type": "code",
   "execution_count": 125,
   "id": "a6f6d4e6-250b-42fa-81c4-d30690329239",
   "metadata": {},
   "outputs": [],
   "source": [
    "from sklearn.linear_model import LinearRegression\n",
    "from sklearn.metrics import mean_squared_error,r2_score"
   ]
  },
  {
   "cell_type": "code",
   "execution_count": 93,
   "id": "fe5e954f-c1d3-4d27-86bd-e17286b236e6",
   "metadata": {},
   "outputs": [],
   "source": [
    "lr=LinearRegression()\n",
    "lr=lr.fit(X_train,y_train)"
   ]
  },
  {
   "cell_type": "code",
   "execution_count": 94,
   "id": "ab1e0e53-8e45-443a-be0e-b65d6e04304a",
   "metadata": {},
   "outputs": [
    {
     "data": {
      "text/plain": [
       "array([ 1.11182864e-06,  8.41525961e-02,  2.59412968e-01,  1.37328997e-04,\n",
       "        4.24387363e-04, -8.51642447e-04, -1.13797860e-15, -1.42676268e-05,\n",
       "        1.09426430e-04,  1.33837322e-05, -1.12164115e-03, -2.03400746e-04])"
      ]
     },
     "execution_count": 94,
     "metadata": {},
     "output_type": "execute_result"
    }
   ],
   "source": [
    "lr.coef_"
   ]
  },
  {
   "cell_type": "code",
   "execution_count": 95,
   "id": "14ea6879-131e-4755-9174-6205fdacfe79",
   "metadata": {},
   "outputs": [
    {
     "data": {
      "text/plain": [
       "3.3952689257767874"
      ]
     },
     "execution_count": 95,
     "metadata": {},
     "output_type": "execute_result"
    }
   ],
   "source": [
    "lr.intercept_"
   ]
  },
  {
   "cell_type": "code",
   "execution_count": 96,
   "id": "7b160dd0-ce26-4da2-80b9-cb924a2afe62",
   "metadata": {},
   "outputs": [
    {
     "data": {
      "text/html": [
       "<div>\n",
       "<style scoped>\n",
       "    .dataframe tbody tr th:only-of-type {\n",
       "        vertical-align: middle;\n",
       "    }\n",
       "\n",
       "    .dataframe tbody tr th {\n",
       "        vertical-align: top;\n",
       "    }\n",
       "\n",
       "    .dataframe thead th {\n",
       "        text-align: right;\n",
       "    }\n",
       "</style>\n",
       "<table border=\"1\" class=\"dataframe\">\n",
       "  <thead>\n",
       "    <tr style=\"text-align: right;\">\n",
       "      <th></th>\n",
       "      <th>name</th>\n",
       "      <th>online_order</th>\n",
       "      <th>book_table</th>\n",
       "      <th>votes</th>\n",
       "      <th>location</th>\n",
       "      <th>rest_type</th>\n",
       "      <th>dish_liked</th>\n",
       "      <th>cuisines</th>\n",
       "      <th>Cost2plates</th>\n",
       "      <th>reviews_list</th>\n",
       "      <th>listed_in(type)</th>\n",
       "      <th>listed_in(city)</th>\n",
       "    </tr>\n",
       "  </thead>\n",
       "  <tbody>\n",
       "    <tr>\n",
       "      <th>8440</th>\n",
       "      <td>3921</td>\n",
       "      <td>1</td>\n",
       "      <td>0</td>\n",
       "      <td>179</td>\n",
       "      <td>0</td>\n",
       "      <td>78</td>\n",
       "      <td>0</td>\n",
       "      <td>2307</td>\n",
       "      <td>250</td>\n",
       "      <td>5913</td>\n",
       "      <td>2</td>\n",
       "      <td>0</td>\n",
       "    </tr>\n",
       "    <tr>\n",
       "      <th>23575</th>\n",
       "      <td>485</td>\n",
       "      <td>1</td>\n",
       "      <td>0</td>\n",
       "      <td>165</td>\n",
       "      <td>3</td>\n",
       "      <td>78</td>\n",
       "      <td>0</td>\n",
       "      <td>1667</td>\n",
       "      <td>450</td>\n",
       "      <td>1391</td>\n",
       "      <td>4</td>\n",
       "      <td>12</td>\n",
       "    </tr>\n",
       "    <tr>\n",
       "      <th>16711</th>\n",
       "      <td>1393</td>\n",
       "      <td>0</td>\n",
       "      <td>0</td>\n",
       "      <td>23</td>\n",
       "      <td>22</td>\n",
       "      <td>78</td>\n",
       "      <td>0</td>\n",
       "      <td>1823</td>\n",
       "      <td>400</td>\n",
       "      <td>19519</td>\n",
       "      <td>2</td>\n",
       "      <td>10</td>\n",
       "    </tr>\n",
       "    <tr>\n",
       "      <th>42588</th>\n",
       "      <td>5698</td>\n",
       "      <td>0</td>\n",
       "      <td>0</td>\n",
       "      <td>8</td>\n",
       "      <td>83</td>\n",
       "      <td>78</td>\n",
       "      <td>0</td>\n",
       "      <td>1898</td>\n",
       "      <td>200</td>\n",
       "      <td>22319</td>\n",
       "      <td>2</td>\n",
       "      <td>21</td>\n",
       "    </tr>\n",
       "    <tr>\n",
       "      <th>5266</th>\n",
       "      <td>1835</td>\n",
       "      <td>1</td>\n",
       "      <td>0</td>\n",
       "      <td>43</td>\n",
       "      <td>83</td>\n",
       "      <td>14</td>\n",
       "      <td>0</td>\n",
       "      <td>367</td>\n",
       "      <td>150</td>\n",
       "      <td>6739</td>\n",
       "      <td>2</td>\n",
       "      <td>5</td>\n",
       "    </tr>\n",
       "    <tr>\n",
       "      <th>...</th>\n",
       "      <td>...</td>\n",
       "      <td>...</td>\n",
       "      <td>...</td>\n",
       "      <td>...</td>\n",
       "      <td>...</td>\n",
       "      <td>...</td>\n",
       "      <td>...</td>\n",
       "      <td>...</td>\n",
       "      <td>...</td>\n",
       "      <td>...</td>\n",
       "      <td>...</td>\n",
       "      <td>...</td>\n",
       "    </tr>\n",
       "    <tr>\n",
       "      <th>5570</th>\n",
       "      <td>1806</td>\n",
       "      <td>1</td>\n",
       "      <td>0</td>\n",
       "      <td>32</td>\n",
       "      <td>18</td>\n",
       "      <td>78</td>\n",
       "      <td>0</td>\n",
       "      <td>895</td>\n",
       "      <td>500</td>\n",
       "      <td>15876</td>\n",
       "      <td>2</td>\n",
       "      <td>5</td>\n",
       "    </tr>\n",
       "    <tr>\n",
       "      <th>8626</th>\n",
       "      <td>323</td>\n",
       "      <td>1</td>\n",
       "      <td>0</td>\n",
       "      <td>0</td>\n",
       "      <td>32</td>\n",
       "      <td>78</td>\n",
       "      <td>0</td>\n",
       "      <td>1865</td>\n",
       "      <td>400</td>\n",
       "      <td>20591</td>\n",
       "      <td>2</td>\n",
       "      <td>0</td>\n",
       "    </tr>\n",
       "    <tr>\n",
       "      <th>42228</th>\n",
       "      <td>4420</td>\n",
       "      <td>0</td>\n",
       "      <td>0</td>\n",
       "      <td>7</td>\n",
       "      <td>52</td>\n",
       "      <td>26</td>\n",
       "      <td>0</td>\n",
       "      <td>708</td>\n",
       "      <td>200</td>\n",
       "      <td>10724</td>\n",
       "      <td>1</td>\n",
       "      <td>21</td>\n",
       "    </tr>\n",
       "    <tr>\n",
       "      <th>18533</th>\n",
       "      <td>1609</td>\n",
       "      <td>1</td>\n",
       "      <td>0</td>\n",
       "      <td>114</td>\n",
       "      <td>27</td>\n",
       "      <td>20</td>\n",
       "      <td>0</td>\n",
       "      <td>600</td>\n",
       "      <td>450</td>\n",
       "      <td>9102</td>\n",
       "      <td>3</td>\n",
       "      <td>11</td>\n",
       "    </tr>\n",
       "    <tr>\n",
       "      <th>42485</th>\n",
       "      <td>1420</td>\n",
       "      <td>1</td>\n",
       "      <td>0</td>\n",
       "      <td>87</td>\n",
       "      <td>27</td>\n",
       "      <td>19</td>\n",
       "      <td>0</td>\n",
       "      <td>711</td>\n",
       "      <td>450</td>\n",
       "      <td>11728</td>\n",
       "      <td>2</td>\n",
       "      <td>21</td>\n",
       "    </tr>\n",
       "  </tbody>\n",
       "</table>\n",
       "<p>15516 rows × 12 columns</p>\n",
       "</div>"
      ],
      "text/plain": [
       "       name  online_order  book_table  votes  location  rest_type  dish_liked  \\\n",
       "8440   3921             1           0    179         0         78           0   \n",
       "23575   485             1           0    165         3         78           0   \n",
       "16711  1393             0           0     23        22         78           0   \n",
       "42588  5698             0           0      8        83         78           0   \n",
       "5266   1835             1           0     43        83         14           0   \n",
       "...     ...           ...         ...    ...       ...        ...         ...   \n",
       "5570   1806             1           0     32        18         78           0   \n",
       "8626    323             1           0      0        32         78           0   \n",
       "42228  4420             0           0      7        52         26           0   \n",
       "18533  1609             1           0    114        27         20           0   \n",
       "42485  1420             1           0     87        27         19           0   \n",
       "\n",
       "       cuisines  Cost2plates  reviews_list  listed_in(type)  listed_in(city)  \n",
       "8440       2307          250          5913                2                0  \n",
       "23575      1667          450          1391                4               12  \n",
       "16711      1823          400         19519                2               10  \n",
       "42588      1898          200         22319                2               21  \n",
       "5266        367          150          6739                2                5  \n",
       "...         ...          ...           ...              ...              ...  \n",
       "5570        895          500         15876                2                5  \n",
       "8626       1865          400         20591                2                0  \n",
       "42228       708          200         10724                1               21  \n",
       "18533       600          450          9102                3               11  \n",
       "42485       711          450         11728                2               21  \n",
       "\n",
       "[15516 rows x 12 columns]"
      ]
     },
     "execution_count": 96,
     "metadata": {},
     "output_type": "execute_result"
    }
   ],
   "source": [
    "(X_test)"
   ]
  },
  {
   "cell_type": "code",
   "execution_count": 97,
   "id": "2062d5a0-2292-4254-9eec-061e99957790",
   "metadata": {},
   "outputs": [
    {
     "data": {
      "text/plain": [
       "8440     3.9\n",
       "23575    2.8\n",
       "16711    3.8\n",
       "42588    3.5\n",
       "5266     3.5\n",
       "        ... \n",
       "5570     3.7\n",
       "8626     3.7\n",
       "42228    3.6\n",
       "18533    4.1\n",
       "42485    3.9\n",
       "Name: rate, Length: 15516, dtype: float64"
      ]
     },
     "execution_count": 97,
     "metadata": {},
     "output_type": "execute_result"
    }
   ],
   "source": [
    "y_test"
   ]
  },
  {
   "cell_type": "code",
   "execution_count": 98,
   "id": "2eb7dee6-9d84-4e8f-b19d-02a991c7b230",
   "metadata": {},
   "outputs": [
    {
     "data": {
      "text/plain": [
       "0.32445684187928714"
      ]
     },
     "execution_count": 98,
     "metadata": {},
     "output_type": "execute_result"
    }
   ],
   "source": [
    "lr.score(X_train,y_train)"
   ]
  },
  {
   "cell_type": "code",
   "execution_count": 99,
   "id": "53662039-5f49-40fd-9bcc-2575b4b5ac8b",
   "metadata": {},
   "outputs": [
    {
     "data": {
      "text/plain": [
       "0.33132858104596585"
      ]
     },
     "execution_count": 99,
     "metadata": {},
     "output_type": "execute_result"
    }
   ],
   "source": [
    "lr.score(X_test,y_test)"
   ]
  },
  {
   "cell_type": "code",
   "execution_count": 100,
   "id": "9d2c9e71-1213-4d91-af2d-fe7ce000c7e2",
   "metadata": {},
   "outputs": [],
   "source": [
    "pred=lr.predict(X_test)"
   ]
  },
  {
   "cell_type": "code",
   "execution_count": 101,
   "id": "90797cad-e2b5-4b52-8e28-22831b464c47",
   "metadata": {},
   "outputs": [
    {
     "name": "stdout",
     "output_type": "stream",
     "text": [
      "r2_SCORE: 0.33132858104596585\n"
     ]
    }
   ],
   "source": [
    "print(\"r2_SCORE:\",r2_score(y_test,pred))"
   ]
  },
  {
   "cell_type": "code",
   "execution_count": 102,
   "id": "ac6d61c9-65a8-4fdf-a434-2df8da4725d8",
   "metadata": {},
   "outputs": [
    {
     "name": "stdout",
     "output_type": "stream",
     "text": [
      "Train Error:  0.32445684187928714\n",
      "---------------------------------------------------------------\n",
      "Test Error:  0.33132858104596585\n",
      "---------------------------------------------------------------\n",
      "MSE: 0.10402135746777219\n",
      "---------------------------------------------------------------\n",
      "r2_SCORE: 0.33132858104596585\n"
     ]
    }
   ],
   "source": [
    "print(\"Train Error: \",lr.score(X_train,y_train))\n",
    "pred=lr.predict(X_test)\n",
    "print(\"---\"*21)\n",
    "print(\"Test Error: \",lr.score(X_test,y_test))\n",
    "print(\"---\"*21)\n",
    "print(\"MSE:\",mean_squared_error(y_test,pred))\n",
    "print(\"---\"*21)\n",
    "print(\"r2_SCORE:\",r2_score(y_test,pred))"
   ]
  },
  {
   "cell_type": "markdown",
   "id": "7c7fed35-d413-4eea-83cd-34264bea97e7",
   "metadata": {},
   "source": [
    "# Decision Tree Regressor"
   ]
  },
  {
   "cell_type": "code",
   "execution_count": 103,
   "id": "df2c0753-e6a0-433e-87d4-5b72cd0c9489",
   "metadata": {},
   "outputs": [],
   "source": [
    "from sklearn.tree import DecisionTreeRegressor"
   ]
  },
  {
   "cell_type": "code",
   "execution_count": 104,
   "id": "2fd97209-0e96-4db5-9d63-9ecdb604af47",
   "metadata": {},
   "outputs": [],
   "source": [
    "from sklearn.metrics import mean_squared_error,r2_score"
   ]
  },
  {
   "cell_type": "code",
   "execution_count": 105,
   "id": "640e4f51-90ef-4046-b2a1-1e61d0a4ed48",
   "metadata": {},
   "outputs": [],
   "source": [
    "dt=DecisionTreeRegressor()"
   ]
  },
  {
   "cell_type": "code",
   "execution_count": 106,
   "id": "2bddfd75-ec57-41dc-9ad4-1197ad2a586d",
   "metadata": {},
   "outputs": [],
   "source": [
    "dt=DecisionTreeRegressor(max_depth=4,max_features=7)"
   ]
  },
  {
   "cell_type": "code",
   "execution_count": 107,
   "id": "11ce5a6b-d95c-4301-8c65-c159b6c192c8",
   "metadata": {},
   "outputs": [],
   "source": [
    "dt=dt.fit(X_train,y_train)"
   ]
  },
  {
   "cell_type": "code",
   "execution_count": 108,
   "id": "b89fe303-d678-40d5-b702-10b16dccd02f",
   "metadata": {},
   "outputs": [],
   "source": [
    "pred1=dt.predict(X_test)"
   ]
  },
  {
   "cell_type": "code",
   "execution_count": 109,
   "id": "561ab3eb-f5c4-4597-b999-6828be584a3d",
   "metadata": {},
   "outputs": [
    {
     "name": "stdout",
     "output_type": "stream",
     "text": [
      "r2_SCORE: 0.4610951010361376\n"
     ]
    }
   ],
   "source": [
    "print(\"r2_SCORE:\",r2_score(y_test,pred1))"
   ]
  },
  {
   "cell_type": "code",
   "execution_count": 110,
   "id": "3f5c7ffc-5c3f-498c-baeb-45027925a191",
   "metadata": {},
   "outputs": [
    {
     "name": "stdout",
     "output_type": "stream",
     "text": [
      "Train Error:  0.4693209097693689\n",
      "---------------------------------------------------------------\n",
      "Test Error:  0.4610951010361376\n",
      "---------------------------------------------------------------\n",
      "MSE: 0.08383432811281426\n"
     ]
    }
   ],
   "source": [
    "print(\"Train Error: \",dt.score(X_train,y_train))\n",
    "pred=dt.predict(X_test)\n",
    "print(\"---\"*21)\n",
    "print(\"Test Error: \",dt.score(X_test,y_test))\n",
    "print(\"---\"*21)\n",
    "print(\"MSE:\",mean_squared_error(y_test,pred1))\n"
   ]
  },
  {
   "cell_type": "markdown",
   "id": "99d50d79-8a1f-4cf4-9a17-1f5f9fa2bf2b",
   "metadata": {},
   "source": [
    "# Build gridsearchcv model for better stability and accuracy of DecisiontreeRegressor"
   ]
  },
  {
   "cell_type": "code",
   "execution_count": 111,
   "id": "b966885d-503a-418d-8880-9343182e8a01",
   "metadata": {},
   "outputs": [],
   "source": [
    "from sklearn.model_selection import  GridSearchCV\n",
    "from sklearn import metrics"
   ]
  },
  {
   "cell_type": "code",
   "execution_count": 112,
   "id": "eb75f5e4-b297-4e88-b032-dc74456d558e",
   "metadata": {},
   "outputs": [],
   "source": [
    "grid = {'max_depth': [5,6,7,8,9,10],\n",
    "        'max_features': [5,6,7,8,9,10,11,12,13,14,15],\n",
    "        'max_leaf_nodes': [3,4,5,6]}"
   ]
  },
  {
   "cell_type": "code",
   "execution_count": 113,
   "id": "c25746c5-4e19-48d2-90b6-0d5c60e1cd02",
   "metadata": {},
   "outputs": [],
   "source": [
    "DT_model_GS = GridSearchCV(DecisionTreeRegressor(), param_grid = grid, scoring = 'roc_auc', cv = 5, verbose = True)"
   ]
  },
  {
   "cell_type": "code",
   "execution_count": 115,
   "id": "8e1e7ec5-65d7-45f0-8ded-88a7435dc1fa",
   "metadata": {},
   "outputs": [
    {
     "name": "stdout",
     "output_type": "stream",
     "text": [
      "Fitting 5 folds for each of 264 candidates, totalling 1320 fits\n"
     ]
    }
   ],
   "source": [
    "DT_model_GS = DT_model_GS.fit(X_train,y_train)"
   ]
  },
  {
   "cell_type": "code",
   "execution_count": 116,
   "id": "c622c77a-e45f-4be4-b8a5-b1f0db1f67db",
   "metadata": {},
   "outputs": [
    {
     "data": {
      "text/plain": [
       "{'max_depth': 5, 'max_features': 5, 'max_leaf_nodes': 3}"
      ]
     },
     "execution_count": 116,
     "metadata": {},
     "output_type": "execute_result"
    }
   ],
   "source": [
    "DT_model_GS.best_params_"
   ]
  },
  {
   "cell_type": "code",
   "execution_count": 119,
   "id": "71e9f44f-9a53-420c-8751-678179476402",
   "metadata": {},
   "outputs": [],
   "source": [
    "new_model=DecisionTreeRegressor(criterion=\"poisson\",max_depth=5,max_features=5,max_leaf_nodes=4)"
   ]
  },
  {
   "cell_type": "code",
   "execution_count": 120,
   "id": "96395cde-7ff4-497e-8df5-7f8427a5ffc6",
   "metadata": {},
   "outputs": [],
   "source": [
    "final_model=new_model.fit(X_train,y_train)"
   ]
  },
  {
   "cell_type": "code",
   "execution_count": 122,
   "id": "688067df-e9db-4b4f-bc8a-e17a33357ea1",
   "metadata": {},
   "outputs": [],
   "source": [
    "pred=final_model.predict(X_test)"
   ]
  },
  {
   "cell_type": "code",
   "execution_count": 124,
   "id": "aabc47c1-5537-4381-8c34-6c25ed19bac6",
   "metadata": {},
   "outputs": [
    {
     "name": "stdout",
     "output_type": "stream",
     "text": [
      "r2_SCORE: 0.3118155209602923\n"
     ]
    }
   ],
   "source": [
    "print(\"r2_SCORE:\",r2_score(y_test,pred))"
   ]
  },
  {
   "cell_type": "markdown",
   "id": "567c7f4f-30c0-4791-8130-f3c7b5050475",
   "metadata": {},
   "source": [
    "# Reguralisation(Lasso)"
   ]
  },
  {
   "cell_type": "code",
   "execution_count": 147,
   "id": "aa156d76-8fe2-4bab-b380-edab11616293",
   "metadata": {},
   "outputs": [],
   "source": [
    "from sklearn.linear_model import Lasso"
   ]
  },
  {
   "cell_type": "code",
   "execution_count": 148,
   "id": "8cf87458-df0f-48c6-9fda-999e4314d6bf",
   "metadata": {},
   "outputs": [],
   "source": [
    "l1=Lasso()"
   ]
  },
  {
   "cell_type": "code",
   "execution_count": 149,
   "id": "4e11bf3e-448b-48df-85b2-a6af151236d6",
   "metadata": {},
   "outputs": [],
   "source": [
    "l1=l1.fit(X_train,y_train)\n",
    "pred=l1.predict(X_test)"
   ]
  },
  {
   "cell_type": "code",
   "execution_count": 150,
   "id": "fde37059-74a9-4e22-9e66-80d9fdd4d501",
   "metadata": {},
   "outputs": [
    {
     "name": "stdout",
     "output_type": "stream",
     "text": [
      "MSE: 0.11010100137967739\n"
     ]
    }
   ],
   "source": [
    "print(\"MSE:\",mean_squared_error(y_test,pred))"
   ]
  },
  {
   "cell_type": "markdown",
   "id": "370fbfec-607a-46d2-89af-e03f4e52e240",
   "metadata": {},
   "source": [
    "# import Random forest regressor."
   ]
  },
  {
   "cell_type": "code",
   "execution_count": 151,
   "id": "4983e5d8-c911-4311-88d6-78f0f8d62e78",
   "metadata": {},
   "outputs": [],
   "source": [
    "from sklearn.ensemble import RandomForestRegressor"
   ]
  },
  {
   "cell_type": "code",
   "execution_count": 152,
   "id": "637ce562-b74b-40d9-93db-d2a2d8c8a8dd",
   "metadata": {},
   "outputs": [],
   "source": [
    "from sklearn.model_selection import train_test_split\n",
    "X_train,X_test,y_train,y_test=train_test_split(x,y,test_size=0.2,random_state=42)"
   ]
  },
  {
   "cell_type": "code",
   "execution_count": 153,
   "id": "3db18374-3a9f-4945-b4c9-365db04d972b",
   "metadata": {},
   "outputs": [],
   "source": [
    "from sklearn.model_selection import cross_val_score"
   ]
  },
  {
   "cell_type": "code",
   "execution_count": 154,
   "id": "4a44c585-c139-4388-ae24-f13f5e3bace6",
   "metadata": {},
   "outputs": [],
   "source": [
    "rf=RandomForestRegressor(n_estimators=100,random_state=42)"
   ]
  },
  {
   "cell_type": "code",
   "execution_count": 155,
   "id": "11557253-26c5-4b8d-806d-f3309cb86fe5",
   "metadata": {},
   "outputs": [
    {
     "data": {
      "text/html": [
       "<style>#sk-container-id-3 {color: black;background-color: white;}#sk-container-id-3 pre{padding: 0;}#sk-container-id-3 div.sk-toggleable {background-color: white;}#sk-container-id-3 label.sk-toggleable__label {cursor: pointer;display: block;width: 100%;margin-bottom: 0;padding: 0.3em;box-sizing: border-box;text-align: center;}#sk-container-id-3 label.sk-toggleable__label-arrow:before {content: \"▸\";float: left;margin-right: 0.25em;color: #696969;}#sk-container-id-3 label.sk-toggleable__label-arrow:hover:before {color: black;}#sk-container-id-3 div.sk-estimator:hover label.sk-toggleable__label-arrow:before {color: black;}#sk-container-id-3 div.sk-toggleable__content {max-height: 0;max-width: 0;overflow: hidden;text-align: left;background-color: #f0f8ff;}#sk-container-id-3 div.sk-toggleable__content pre {margin: 0.2em;color: black;border-radius: 0.25em;background-color: #f0f8ff;}#sk-container-id-3 input.sk-toggleable__control:checked~div.sk-toggleable__content {max-height: 200px;max-width: 100%;overflow: auto;}#sk-container-id-3 input.sk-toggleable__control:checked~label.sk-toggleable__label-arrow:before {content: \"▾\";}#sk-container-id-3 div.sk-estimator input.sk-toggleable__control:checked~label.sk-toggleable__label {background-color: #d4ebff;}#sk-container-id-3 div.sk-label input.sk-toggleable__control:checked~label.sk-toggleable__label {background-color: #d4ebff;}#sk-container-id-3 input.sk-hidden--visually {border: 0;clip: rect(1px 1px 1px 1px);clip: rect(1px, 1px, 1px, 1px);height: 1px;margin: -1px;overflow: hidden;padding: 0;position: absolute;width: 1px;}#sk-container-id-3 div.sk-estimator {font-family: monospace;background-color: #f0f8ff;border: 1px dotted black;border-radius: 0.25em;box-sizing: border-box;margin-bottom: 0.5em;}#sk-container-id-3 div.sk-estimator:hover {background-color: #d4ebff;}#sk-container-id-3 div.sk-parallel-item::after {content: \"\";width: 100%;border-bottom: 1px solid gray;flex-grow: 1;}#sk-container-id-3 div.sk-label:hover label.sk-toggleable__label {background-color: #d4ebff;}#sk-container-id-3 div.sk-serial::before {content: \"\";position: absolute;border-left: 1px solid gray;box-sizing: border-box;top: 0;bottom: 0;left: 50%;z-index: 0;}#sk-container-id-3 div.sk-serial {display: flex;flex-direction: column;align-items: center;background-color: white;padding-right: 0.2em;padding-left: 0.2em;position: relative;}#sk-container-id-3 div.sk-item {position: relative;z-index: 1;}#sk-container-id-3 div.sk-parallel {display: flex;align-items: stretch;justify-content: center;background-color: white;position: relative;}#sk-container-id-3 div.sk-item::before, #sk-container-id-3 div.sk-parallel-item::before {content: \"\";position: absolute;border-left: 1px solid gray;box-sizing: border-box;top: 0;bottom: 0;left: 50%;z-index: -1;}#sk-container-id-3 div.sk-parallel-item {display: flex;flex-direction: column;z-index: 1;position: relative;background-color: white;}#sk-container-id-3 div.sk-parallel-item:first-child::after {align-self: flex-end;width: 50%;}#sk-container-id-3 div.sk-parallel-item:last-child::after {align-self: flex-start;width: 50%;}#sk-container-id-3 div.sk-parallel-item:only-child::after {width: 0;}#sk-container-id-3 div.sk-dashed-wrapped {border: 1px dashed gray;margin: 0 0.4em 0.5em 0.4em;box-sizing: border-box;padding-bottom: 0.4em;background-color: white;}#sk-container-id-3 div.sk-label label {font-family: monospace;font-weight: bold;display: inline-block;line-height: 1.2em;}#sk-container-id-3 div.sk-label-container {text-align: center;}#sk-container-id-3 div.sk-container {/* jupyter's `normalize.less` sets `[hidden] { display: none; }` but bootstrap.min.css set `[hidden] { display: none !important; }` so we also need the `!important` here to be able to override the default hidden behavior on the sphinx rendered scikit-learn.org. See: https://github.com/scikit-learn/scikit-learn/issues/21755 */display: inline-block !important;position: relative;}#sk-container-id-3 div.sk-text-repr-fallback {display: none;}</style><div id=\"sk-container-id-3\" class=\"sk-top-container\"><div class=\"sk-text-repr-fallback\"><pre>RandomForestRegressor(random_state=42)</pre><b>In a Jupyter environment, please rerun this cell to show the HTML representation or trust the notebook. <br />On GitHub, the HTML representation is unable to render, please try loading this page with nbviewer.org.</b></div><div class=\"sk-container\" hidden><div class=\"sk-item\"><div class=\"sk-estimator sk-toggleable\"><input class=\"sk-toggleable__control sk-hidden--visually\" id=\"sk-estimator-id-3\" type=\"checkbox\" checked><label for=\"sk-estimator-id-3\" class=\"sk-toggleable__label sk-toggleable__label-arrow\">RandomForestRegressor</label><div class=\"sk-toggleable__content\"><pre>RandomForestRegressor(random_state=42)</pre></div></div></div></div></div>"
      ],
      "text/plain": [
       "RandomForestRegressor(random_state=42)"
      ]
     },
     "execution_count": 155,
     "metadata": {},
     "output_type": "execute_result"
    }
   ],
   "source": [
    "rf.fit(X_train,y_train)"
   ]
  },
  {
   "cell_type": "code",
   "execution_count": 156,
   "id": "ce5cc975-307f-4709-bd40-bff0e8d38385",
   "metadata": {},
   "outputs": [],
   "source": [
    "pred=rf.predict(X_train)"
   ]
  },
  {
   "cell_type": "code",
   "execution_count": 157,
   "id": "03b8d66c-59de-4e2e-aeca-bf3cfe7c9ddd",
   "metadata": {},
   "outputs": [
    {
     "name": "stdout",
     "output_type": "stream",
     "text": [
      "<function r2_score at 0x0000025F437307C0> (13604    3.7\n",
      "9604     3.4\n",
      "9437     3.7\n",
      "5787     3.7\n",
      "42155    3.4\n",
      "        ... \n",
      "11284    3.7\n",
      "44732    4.2\n",
      "38158    4.0\n",
      "860      3.7\n",
      "15795    4.6\n",
      "Name: rate, Length: 41373, dtype: float64, array([3.7  , 3.398, 3.695, ..., 4.   , 3.7  , 4.581]))\n"
     ]
    }
   ],
   "source": [
    "print(r2_score,(y_train,pred))"
   ]
  },
  {
   "cell_type": "code",
   "execution_count": 158,
   "id": "13ff5529-45ad-484b-a064-1467993379fc",
   "metadata": {},
   "outputs": [],
   "source": [
    "pred2=rf.predict(X_test)"
   ]
  },
  {
   "cell_type": "code",
   "execution_count": 159,
   "id": "38e3522c-5b4e-46a0-9c51-edca4f8104ab",
   "metadata": {},
   "outputs": [
    {
     "data": {
      "text/plain": [
       "8440     3.9\n",
       "23575    2.8\n",
       "16711    3.8\n",
       "42588    3.5\n",
       "5266     3.5\n",
       "        ... \n",
       "49217    4.1\n",
       "39524    4.0\n",
       "47849    3.1\n",
       "30475    3.7\n",
       "45307    3.3\n",
       "Name: rate, Length: 10344, dtype: float64"
      ]
     },
     "execution_count": 159,
     "metadata": {},
     "output_type": "execute_result"
    }
   ],
   "source": [
    "y_test"
   ]
  },
  {
   "cell_type": "markdown",
   "id": "577a0cd8-dd17-49f5-affb-80a5e8f16664",
   "metadata": {},
   "source": [
    "# Just compare the Actual value and predicted value."
   ]
  },
  {
   "cell_type": "code",
   "execution_count": 160,
   "id": "5e2ad505-eed5-4a20-8014-1cb7719a1d0a",
   "metadata": {},
   "outputs": [],
   "source": [
    "df0=pd.DataFrame({\"Actual\":y_test,\"predicted\":pred2})"
   ]
  },
  {
   "cell_type": "code",
   "execution_count": 161,
   "id": "2b6b70b8-ba95-49da-986c-1260a450f61c",
   "metadata": {},
   "outputs": [
    {
     "data": {
      "text/html": [
       "<div>\n",
       "<style scoped>\n",
       "    .dataframe tbody tr th:only-of-type {\n",
       "        vertical-align: middle;\n",
       "    }\n",
       "\n",
       "    .dataframe tbody tr th {\n",
       "        vertical-align: top;\n",
       "    }\n",
       "\n",
       "    .dataframe thead th {\n",
       "        text-align: right;\n",
       "    }\n",
       "</style>\n",
       "<table border=\"1\" class=\"dataframe\">\n",
       "  <thead>\n",
       "    <tr style=\"text-align: right;\">\n",
       "      <th></th>\n",
       "      <th>Actual</th>\n",
       "      <th>predicted</th>\n",
       "    </tr>\n",
       "  </thead>\n",
       "  <tbody>\n",
       "    <tr>\n",
       "      <th>8440</th>\n",
       "      <td>3.9</td>\n",
       "      <td>3.852</td>\n",
       "    </tr>\n",
       "    <tr>\n",
       "      <th>23575</th>\n",
       "      <td>2.8</td>\n",
       "      <td>2.808</td>\n",
       "    </tr>\n",
       "    <tr>\n",
       "      <th>16711</th>\n",
       "      <td>3.8</td>\n",
       "      <td>3.785</td>\n",
       "    </tr>\n",
       "    <tr>\n",
       "      <th>42588</th>\n",
       "      <td>3.5</td>\n",
       "      <td>3.497</td>\n",
       "    </tr>\n",
       "    <tr>\n",
       "      <th>5266</th>\n",
       "      <td>3.5</td>\n",
       "      <td>3.476</td>\n",
       "    </tr>\n",
       "    <tr>\n",
       "      <th>...</th>\n",
       "      <td>...</td>\n",
       "      <td>...</td>\n",
       "    </tr>\n",
       "    <tr>\n",
       "      <th>49217</th>\n",
       "      <td>4.1</td>\n",
       "      <td>3.957</td>\n",
       "    </tr>\n",
       "    <tr>\n",
       "      <th>39524</th>\n",
       "      <td>4.0</td>\n",
       "      <td>3.948</td>\n",
       "    </tr>\n",
       "    <tr>\n",
       "      <th>47849</th>\n",
       "      <td>3.1</td>\n",
       "      <td>3.100</td>\n",
       "    </tr>\n",
       "    <tr>\n",
       "      <th>30475</th>\n",
       "      <td>3.7</td>\n",
       "      <td>3.700</td>\n",
       "    </tr>\n",
       "    <tr>\n",
       "      <th>45307</th>\n",
       "      <td>3.3</td>\n",
       "      <td>3.315</td>\n",
       "    </tr>\n",
       "  </tbody>\n",
       "</table>\n",
       "<p>10344 rows × 2 columns</p>\n",
       "</div>"
      ],
      "text/plain": [
       "       Actual  predicted\n",
       "8440      3.9      3.852\n",
       "23575     2.8      2.808\n",
       "16711     3.8      3.785\n",
       "42588     3.5      3.497\n",
       "5266      3.5      3.476\n",
       "...       ...        ...\n",
       "49217     4.1      3.957\n",
       "39524     4.0      3.948\n",
       "47849     3.1      3.100\n",
       "30475     3.7      3.700\n",
       "45307     3.3      3.315\n",
       "\n",
       "[10344 rows x 2 columns]"
      ]
     },
     "execution_count": 161,
     "metadata": {},
     "output_type": "execute_result"
    }
   ],
   "source": [
    "df0"
   ]
  },
  {
   "cell_type": "code",
   "execution_count": 162,
   "id": "49d5f48a-b168-49e1-832b-fc8d99d5205e",
   "metadata": {},
   "outputs": [
    {
     "name": "stdout",
     "output_type": "stream",
     "text": [
      "r2_value : 0.9323871000033055\n"
     ]
    }
   ],
   "source": [
    "print(\"r2_value :\",r2_score(y_test,pred2))"
   ]
  },
  {
   "cell_type": "code",
   "execution_count": 163,
   "id": "9fda05d7-fd91-4c6a-8d22-cd100e2c29a2",
   "metadata": {},
   "outputs": [
    {
     "name": "stdout",
     "output_type": "stream",
     "text": [
      "mean_squared_error: 0.010549048433874724\n"
     ]
    }
   ],
   "source": [
    "print(\"mean_squared_error:\",mean_squared_error(y_test,pred2))"
   ]
  },
  {
   "cell_type": "markdown",
   "id": "ce308510-652c-434c-a18d-988061f6e622",
   "metadata": {},
   "source": [
    "# intall Xgboost library."
   ]
  },
  {
   "cell_type": "code",
   "execution_count": 164,
   "id": "40928df4-7349-47df-a4a6-c0c39542ee8d",
   "metadata": {},
   "outputs": [
    {
     "name": "stdout",
     "output_type": "stream",
     "text": [
      "Requirement already satisfied: xgboost in c:\\users\\kmm23\\anaconda3\\lib\\site-packages (2.1.1)\n",
      "Requirement already satisfied: numpy in c:\\users\\kmm23\\anaconda3\\lib\\site-packages (from xgboost) (1.26.4)\n",
      "Requirement already satisfied: scipy in c:\\users\\kmm23\\anaconda3\\lib\\site-packages (from xgboost) (1.11.4)\n"
     ]
    }
   ],
   "source": [
    "!pip install xgboost"
   ]
  },
  {
   "cell_type": "markdown",
   "id": "d4c4186d-c2d2-4597-8306-c0aa301ab407",
   "metadata": {},
   "source": [
    "# import XGB Random forest regressor."
   ]
  },
  {
   "cell_type": "code",
   "execution_count": 165,
   "id": "58401605-7cda-4a0a-b5ef-641643f85bc5",
   "metadata": {},
   "outputs": [],
   "source": [
    "from xgboost import XGBRFRegressor"
   ]
  },
  {
   "cell_type": "code",
   "execution_count": 166,
   "id": "8cb6861d-c894-47df-a2cc-71298ba04229",
   "metadata": {},
   "outputs": [],
   "source": [
    "xg=XGBRFRegressor(n_estimator=100,random_state=42,cv=6)"
   ]
  },
  {
   "cell_type": "code",
   "execution_count": 174,
   "id": "d22c52f3-da03-476d-9f0f-03318cfb1cd8",
   "metadata": {},
   "outputs": [
    {
     "data": {
      "text/html": [
       "<style>#sk-container-id-5 {color: black;background-color: white;}#sk-container-id-5 pre{padding: 0;}#sk-container-id-5 div.sk-toggleable {background-color: white;}#sk-container-id-5 label.sk-toggleable__label {cursor: pointer;display: block;width: 100%;margin-bottom: 0;padding: 0.3em;box-sizing: border-box;text-align: center;}#sk-container-id-5 label.sk-toggleable__label-arrow:before {content: \"▸\";float: left;margin-right: 0.25em;color: #696969;}#sk-container-id-5 label.sk-toggleable__label-arrow:hover:before {color: black;}#sk-container-id-5 div.sk-estimator:hover label.sk-toggleable__label-arrow:before {color: black;}#sk-container-id-5 div.sk-toggleable__content {max-height: 0;max-width: 0;overflow: hidden;text-align: left;background-color: #f0f8ff;}#sk-container-id-5 div.sk-toggleable__content pre {margin: 0.2em;color: black;border-radius: 0.25em;background-color: #f0f8ff;}#sk-container-id-5 input.sk-toggleable__control:checked~div.sk-toggleable__content {max-height: 200px;max-width: 100%;overflow: auto;}#sk-container-id-5 input.sk-toggleable__control:checked~label.sk-toggleable__label-arrow:before {content: \"▾\";}#sk-container-id-5 div.sk-estimator input.sk-toggleable__control:checked~label.sk-toggleable__label {background-color: #d4ebff;}#sk-container-id-5 div.sk-label input.sk-toggleable__control:checked~label.sk-toggleable__label {background-color: #d4ebff;}#sk-container-id-5 input.sk-hidden--visually {border: 0;clip: rect(1px 1px 1px 1px);clip: rect(1px, 1px, 1px, 1px);height: 1px;margin: -1px;overflow: hidden;padding: 0;position: absolute;width: 1px;}#sk-container-id-5 div.sk-estimator {font-family: monospace;background-color: #f0f8ff;border: 1px dotted black;border-radius: 0.25em;box-sizing: border-box;margin-bottom: 0.5em;}#sk-container-id-5 div.sk-estimator:hover {background-color: #d4ebff;}#sk-container-id-5 div.sk-parallel-item::after {content: \"\";width: 100%;border-bottom: 1px solid gray;flex-grow: 1;}#sk-container-id-5 div.sk-label:hover label.sk-toggleable__label {background-color: #d4ebff;}#sk-container-id-5 div.sk-serial::before {content: \"\";position: absolute;border-left: 1px solid gray;box-sizing: border-box;top: 0;bottom: 0;left: 50%;z-index: 0;}#sk-container-id-5 div.sk-serial {display: flex;flex-direction: column;align-items: center;background-color: white;padding-right: 0.2em;padding-left: 0.2em;position: relative;}#sk-container-id-5 div.sk-item {position: relative;z-index: 1;}#sk-container-id-5 div.sk-parallel {display: flex;align-items: stretch;justify-content: center;background-color: white;position: relative;}#sk-container-id-5 div.sk-item::before, #sk-container-id-5 div.sk-parallel-item::before {content: \"\";position: absolute;border-left: 1px solid gray;box-sizing: border-box;top: 0;bottom: 0;left: 50%;z-index: -1;}#sk-container-id-5 div.sk-parallel-item {display: flex;flex-direction: column;z-index: 1;position: relative;background-color: white;}#sk-container-id-5 div.sk-parallel-item:first-child::after {align-self: flex-end;width: 50%;}#sk-container-id-5 div.sk-parallel-item:last-child::after {align-self: flex-start;width: 50%;}#sk-container-id-5 div.sk-parallel-item:only-child::after {width: 0;}#sk-container-id-5 div.sk-dashed-wrapped {border: 1px dashed gray;margin: 0 0.4em 0.5em 0.4em;box-sizing: border-box;padding-bottom: 0.4em;background-color: white;}#sk-container-id-5 div.sk-label label {font-family: monospace;font-weight: bold;display: inline-block;line-height: 1.2em;}#sk-container-id-5 div.sk-label-container {text-align: center;}#sk-container-id-5 div.sk-container {/* jupyter's `normalize.less` sets `[hidden] { display: none; }` but bootstrap.min.css set `[hidden] { display: none !important; }` so we also need the `!important` here to be able to override the default hidden behavior on the sphinx rendered scikit-learn.org. See: https://github.com/scikit-learn/scikit-learn/issues/21755 */display: inline-block !important;position: relative;}#sk-container-id-5 div.sk-text-repr-fallback {display: none;}</style><div id=\"sk-container-id-5\" class=\"sk-top-container\"><div class=\"sk-text-repr-fallback\"><pre>XGBRFRegressor(base_score=None, booster=None, callbacks=None,\n",
       "               colsample_bylevel=None, colsample_bytree=None, cv=6, device=None,\n",
       "               early_stopping_rounds=None, enable_categorical=False,\n",
       "               eval_metric=None, feature_types=None, gamma=None,\n",
       "               grow_policy=None, importance_type=None,\n",
       "               interaction_constraints=None, max_bin=None,\n",
       "               max_cat_threshold=None, max_cat_to_onehot=None,\n",
       "               max_delta_step=None, max_depth=None, max_leaves=None,\n",
       "               min_child_weight=None, missing=nan, monotone_constraints=None,\n",
       "               multi_strategy=None, n_estimator=100, n_estimators=None,\n",
       "               n_jobs=None, num_parallel_tree=None,\n",
       "               objective=&#x27;reg:squarederror&#x27;, ...)</pre><b>In a Jupyter environment, please rerun this cell to show the HTML representation or trust the notebook. <br />On GitHub, the HTML representation is unable to render, please try loading this page with nbviewer.org.</b></div><div class=\"sk-container\" hidden><div class=\"sk-item\"><div class=\"sk-estimator sk-toggleable\"><input class=\"sk-toggleable__control sk-hidden--visually\" id=\"sk-estimator-id-5\" type=\"checkbox\" checked><label for=\"sk-estimator-id-5\" class=\"sk-toggleable__label sk-toggleable__label-arrow\">XGBRFRegressor</label><div class=\"sk-toggleable__content\"><pre>XGBRFRegressor(base_score=None, booster=None, callbacks=None,\n",
       "               colsample_bylevel=None, colsample_bytree=None, cv=6, device=None,\n",
       "               early_stopping_rounds=None, enable_categorical=False,\n",
       "               eval_metric=None, feature_types=None, gamma=None,\n",
       "               grow_policy=None, importance_type=None,\n",
       "               interaction_constraints=None, max_bin=None,\n",
       "               max_cat_threshold=None, max_cat_to_onehot=None,\n",
       "               max_delta_step=None, max_depth=None, max_leaves=None,\n",
       "               min_child_weight=None, missing=nan, monotone_constraints=None,\n",
       "               multi_strategy=None, n_estimator=100, n_estimators=None,\n",
       "               n_jobs=None, num_parallel_tree=None,\n",
       "               objective=&#x27;reg:squarederror&#x27;, ...)</pre></div></div></div></div></div>"
      ],
      "text/plain": [
       "XGBRFRegressor(base_score=None, booster=None, callbacks=None,\n",
       "               colsample_bylevel=None, colsample_bytree=None, cv=6, device=None,\n",
       "               early_stopping_rounds=None, enable_categorical=False,\n",
       "               eval_metric=None, feature_types=None, gamma=None,\n",
       "               grow_policy=None, importance_type=None,\n",
       "               interaction_constraints=None, max_bin=None,\n",
       "               max_cat_threshold=None, max_cat_to_onehot=None,\n",
       "               max_delta_step=None, max_depth=None, max_leaves=None,\n",
       "               min_child_weight=None, missing=nan, monotone_constraints=None,\n",
       "               multi_strategy=None, n_estimator=100, n_estimators=None,\n",
       "               n_jobs=None, num_parallel_tree=None,\n",
       "               objective='reg:squarederror', ...)"
      ]
     },
     "execution_count": 174,
     "metadata": {},
     "output_type": "execute_result"
    }
   ],
   "source": [
    "xg.fit(X_train,y_train)"
   ]
  },
  {
   "cell_type": "code",
   "execution_count": 175,
   "id": "953a8701-0a88-4f3b-96d6-1eda40944890",
   "metadata": {},
   "outputs": [],
   "source": [
    "xg1=xg.fit(x,y)"
   ]
  },
  {
   "cell_type": "code",
   "execution_count": 176,
   "id": "27f8ce68-b0d4-464a-a5cb-fc032a3133f6",
   "metadata": {},
   "outputs": [],
   "source": [
    "pred3=xg.predict(X_test)"
   ]
  },
  {
   "cell_type": "code",
   "execution_count": 177,
   "id": "3c450cac-3c95-4afe-8e7d-e743758dd790",
   "metadata": {},
   "outputs": [
    {
     "name": "stdout",
     "output_type": "stream",
     "text": [
      "r2_value : 0.5585997876691129\n"
     ]
    }
   ],
   "source": [
    "print(\"r2_value :\",r2_score(y_test,pred3))"
   ]
  },
  {
   "cell_type": "code",
   "execution_count": 178,
   "id": "872178c8-1c7d-43ca-b053-a3116b3e5478",
   "metadata": {},
   "outputs": [
    {
     "name": "stdout",
     "output_type": "stream",
     "text": [
      "mean_squared_error : 0.06886780804888948\n"
     ]
    }
   ],
   "source": [
    "print(\"mean_squared_error :\",mean_squared_error(y_test,pred3))"
   ]
  },
  {
   "cell_type": "markdown",
   "id": "f4ddd404-a5f8-49c8-889a-184b60fff1c5",
   "metadata": {},
   "source": [
    "# import joblib to save the model for future prediction."
   ]
  },
  {
   "cell_type": "code",
   "execution_count": 201,
   "id": "19d93fd6-468c-4180-b0f1-8de407f3376f",
   "metadata": {},
   "outputs": [],
   "source": [
    "import joblib"
   ]
  },
  {
   "cell_type": "code",
   "execution_count": 202,
   "id": "0efb3648-fb1d-4538-81d3-7024b26d29f1",
   "metadata": {},
   "outputs": [
    {
     "data": {
      "text/plain": [
       "['zomato_rating_analysis']"
      ]
     },
     "execution_count": 202,
     "metadata": {},
     "output_type": "execute_result"
    }
   ],
   "source": [
    "joblib.dump(xg,\"zomato_rating_analysis\")"
   ]
  },
  {
   "cell_type": "code",
   "execution_count": 203,
   "id": "7e77c843-9a5f-4d57-b7f2-2cf68f80c389",
   "metadata": {},
   "outputs": [],
   "source": [
    "model=joblib.load(\"zomato_rating_analysis\")"
   ]
  },
  {
   "cell_type": "markdown",
   "id": "62db37f6-12d3-41d3-b129-cb65a4a194f1",
   "metadata": {},
   "source": [
    "# Prediction on new or unseen data."
   ]
  },
  {
   "cell_type": "code",
   "execution_count": 205,
   "id": "bbe9a85e-dbe5-42b1-91fe-a8bb313303dc",
   "metadata": {},
   "outputs": [
    {
     "data": {
      "text/plain": [
       "3.6424823"
      ]
     },
     "execution_count": 205,
     "metadata": {},
     "output_type": "execute_result"
    }
   ],
   "source": [
    "model.predict(np.array([[4.5,3.9,2.6,1.5,5.0,4.7,3.9,2.8,1.6,4.2,2.4,4.3]]))[0]"
   ]
  },
  {
   "cell_type": "markdown",
   "id": "d0f3ff77-424b-40c0-91cd-b564b658aadf",
   "metadata": {},
   "source": [
    "# which algorithm gives us the best accuracy."
   ]
  },
  {
   "cell_type": "code",
   "execution_count": 206,
   "id": "9b927688-4035-4a3d-8a57-2553c686d769",
   "metadata": {},
   "outputs": [],
   "source": [
    "Best_Accuracy = pd.DataFrame({'Models':['lr','dt','rf','xg'],\n",
    "              \"ACC\":[r2_score(y_test,pred)*100,\n",
    "                     r2_score(y_test,pred1)*100,\n",
    "                     r2_score(y_test,pred2)*100,\n",
    "                     r2_score(y_test,pred3)*100\n",
    "                    ]})"
   ]
  },
  {
   "cell_type": "code",
   "execution_count": 208,
   "id": "75ef9ca5-deff-46ea-81da-f75ad6f19daa",
   "metadata": {},
   "outputs": [
    {
     "data": {
      "text/html": [
       "<div>\n",
       "<style scoped>\n",
       "    .dataframe tbody tr th:only-of-type {\n",
       "        vertical-align: middle;\n",
       "    }\n",
       "\n",
       "    .dataframe tbody tr th {\n",
       "        vertical-align: top;\n",
       "    }\n",
       "\n",
       "    .dataframe thead th {\n",
       "        text-align: right;\n",
       "    }\n",
       "</style>\n",
       "<table border=\"1\" class=\"dataframe\">\n",
       "  <thead>\n",
       "    <tr style=\"text-align: right;\">\n",
       "      <th></th>\n",
       "      <th>Models</th>\n",
       "      <th>ACC</th>\n",
       "    </tr>\n",
       "  </thead>\n",
       "  <tbody>\n",
       "    <tr>\n",
       "      <th>0</th>\n",
       "      <td>lr</td>\n",
       "      <td>33.328974</td>\n",
       "    </tr>\n",
       "    <tr>\n",
       "      <th>1</th>\n",
       "      <td>dt</td>\n",
       "      <td>44.560365</td>\n",
       "    </tr>\n",
       "    <tr>\n",
       "      <th>2</th>\n",
       "      <td>rf</td>\n",
       "      <td>93.238710</td>\n",
       "    </tr>\n",
       "    <tr>\n",
       "      <th>3</th>\n",
       "      <td>xg</td>\n",
       "      <td>55.859979</td>\n",
       "    </tr>\n",
       "  </tbody>\n",
       "</table>\n",
       "</div>"
      ],
      "text/plain": [
       "  Models        ACC\n",
       "0     lr  33.328974\n",
       "1     dt  44.560365\n",
       "2     rf  93.238710\n",
       "3     xg  55.859979"
      ]
     },
     "execution_count": 208,
     "metadata": {},
     "output_type": "execute_result"
    }
   ],
   "source": [
    "Best_Accuracy"
   ]
  },
  {
   "cell_type": "code",
   "execution_count": 210,
   "id": "4532415b-3138-42d5-aff5-5335647a3ced",
   "metadata": {},
   "outputs": [
    {
     "data": {
      "text/plain": [
       "<Axes: >"
      ]
     },
     "execution_count": 210,
     "metadata": {},
     "output_type": "execute_result"
    },
    {
     "data": {
      "image/png": "[encoded data removed]",
      "text/plain": [
       "<Figure size 640x480 with 1 Axes>"
      ]
     },
     "metadata": {},
     "output_type": "display_data"
    }
   ],
   "source": [
    "Best_Accuracy.plot(kind=\"bar\",color=\"green\")"
   ]
  },
  {
   "cell_type": "code",
   "execution_count": null,
   "id": "76fe3481-5e9a-4a86-8609-29fe42acc039",
   "metadata": {},
   "outputs": [],
   "source": []
  }
 ],
 "metadata": {
  "kernelspec": {
   "display_name": "Python 3 (ipykernel)",
   "language": "python",
   "name": "python3"
  },
  "language_info": {
   "codemirror_mode": {
    "name": "ipython",
    "version": 3
   },
   "file_extension": ".py",
   "mimetype": "text/x-python",
   "name": "python",
   "nbconvert_exporter": "python",
   "pygments_lexer": "ipython3",
   "version": "3.11.7"
  }
 },
 "nbformat": 4,
 "nbformat_minor": 5
}
